{
 "cells": [
  {
   "cell_type": "markdown",
   "metadata": {},
   "source": [
    "# Visualization of Stock Trading"
   ]
  },
  {
   "cell_type": "code",
   "execution_count": 1,
   "metadata": {},
   "outputs": [
    {
     "name": "stderr",
     "output_type": "stream",
     "text": [
      "Using TensorFlow backend.\n"
     ]
    },
    {
     "name": "stdout",
     "output_type": "stream",
     "text": [
      "[[0.5        0.5        0.5        0.5        0.00247262 0.99330715]]\n",
      "(1, 6)\n"
     ]
    },
    {
     "data": {
      "text/plain": [
       "RendererRegistry.enable('notebook')"
      ]
     },
     "execution_count": 1,
     "metadata": {},
     "output_type": "execute_result"
    }
   ],
   "source": [
    "# import libraries\n",
    "import pandas as pd\n",
    "import numpy as np\n",
    "import altair as alt\n",
    "import seaborn as sns\n",
    "import datetime\n",
    "import pandas_datareader.data as web\n",
    "\n",
    "\n",
    "import matplotlib.pyplot as plt\n",
    "\n",
    "import logging\n",
    "import coloredlogs\n",
    "\n",
    "from train import *\n",
    "from evaluate import show_eval_result\n",
    "\n",
    "# Altair:\n",
    "# in case of error on notebook: Istll vega_datasets\n",
    "#conda install -c conda-forge altair vega_datasets notebook vega\n",
    "#see also https://altair-viz.github.io/getting_started/installation.html\n",
    "alt.renderers.enable('notebook')"
   ]
  },
  {
   "cell_type": "markdown",
   "metadata": {},
   "source": [
    "## Set relevant parameters\n",
    " - Window-Size: cutout of stock data that agent gets as state for his decision making\n",
    " - ep_count: # of epochs\n",
    " - Model Name (hint: model saved automatically after 10 epochs)\n",
    " - Pretrained: Load Pretrained Model or create new one"
   ]
  },
  {
   "cell_type": "code",
   "execution_count": 43,
   "metadata": {},
   "outputs": [],
   "source": [
    "window_size = 15\n",
    "batch_size = 20 #16\n",
    "ep_count = 30 # 3-5 for debugging, otherwise 20-100\n",
    "model_name = 'model_w15v2'\n",
    "pretrained = False\n",
    "debug = False"
   ]
  },
  {
   "cell_type": "markdown",
   "metadata": {},
   "source": [
    "## Load Datasets into pandas DataFrame"
   ]
  },
  {
   "cell_type": "code",
   "execution_count": 33,
   "metadata": {},
   "outputs": [
    {
     "name": "stderr",
     "output_type": "stream",
     "text": [
      "I1003 18:16:27.698170  8916 connectionpool.py:813] Starting new HTTPS connection (1): finance.yahoo.com:443\n",
      "2019-10-03 18:16:27 PC-Stefan urllib3.connectionpool[18304] DEBUG Starting new HTTPS connection (1): finance.yahoo.com:443\n",
      "I1003 18:16:28.083768  8916 connectionpool.py:393] https://finance.yahoo.com:443 \"GET /quote/ADBE/history?period1=1325386800&period2=1514861999&interval=1d&frequency=1d&filter=history HTTP/1.1\" 200 None\n",
      "2019-10-03 18:16:28 PC-Stefan urllib3.connectionpool[18304] DEBUG https://finance.yahoo.com:443 \"GET /quote/ADBE/history?period1=1325386800&period2=1514861999&interval=1d&frequency=1d&filter=history HTTP/1.1\" 200 None\n",
      "I1003 18:16:28.447201  8916 connectionpool.py:393] https://finance.yahoo.com:443 \"GET /quote/AAPL/history?period1=1325386800&period2=1514861999&interval=1d&frequency=1d&filter=history HTTP/1.1\" 200 None\n",
      "2019-10-03 18:16:28 PC-Stefan urllib3.connectionpool[18304] DEBUG https://finance.yahoo.com:443 \"GET /quote/AAPL/history?period1=1325386800&period2=1514861999&interval=1d&frequency=1d&filter=history HTTP/1.1\" 200 None\n",
      "I1003 18:16:28.832960  8916 connectionpool.py:393] https://finance.yahoo.com:443 \"GET /quote/RCL/history?period1=1325386800&period2=1514861999&interval=1d&frequency=1d&filter=history HTTP/1.1\" 200 None\n",
      "2019-10-03 18:16:28 PC-Stefan urllib3.connectionpool[18304] DEBUG https://finance.yahoo.com:443 \"GET /quote/RCL/history?period1=1325386800&period2=1514861999&interval=1d&frequency=1d&filter=history HTTP/1.1\" 200 None\n",
      "I1003 18:16:29.233719  8916 connectionpool.py:393] https://finance.yahoo.com:443 \"GET /quote/COST/history?period1=1325386800&period2=1514861999&interval=1d&frequency=1d&filter=history HTTP/1.1\" 200 None\n",
      "2019-10-03 18:16:29 PC-Stefan urllib3.connectionpool[18304] DEBUG https://finance.yahoo.com:443 \"GET /quote/COST/history?period1=1325386800&period2=1514861999&interval=1d&frequency=1d&filter=history HTTP/1.1\" 200 None\n",
      "I1003 18:16:29.640580  8916 connectionpool.py:393] https://finance.yahoo.com:443 \"GET /quote/ANF/history?period1=1325386800&period2=1514861999&interval=1d&frequency=1d&filter=history HTTP/1.1\" 200 None\n",
      "2019-10-03 18:16:29 PC-Stefan urllib3.connectionpool[18304] DEBUG https://finance.yahoo.com:443 \"GET /quote/ANF/history?period1=1325386800&period2=1514861999&interval=1d&frequency=1d&filter=history HTTP/1.1\" 200 None\n",
      "I1003 18:16:29.957161  8916 connectionpool.py:393] https://finance.yahoo.com:443 \"GET /quote/GOLD/history?period1=1325386800&period2=1514861999&interval=1d&frequency=1d&filter=history HTTP/1.1\" 200 None\n",
      "2019-10-03 18:16:29 PC-Stefan urllib3.connectionpool[18304] DEBUG https://finance.yahoo.com:443 \"GET /quote/GOLD/history?period1=1325386800&period2=1514861999&interval=1d&frequency=1d&filter=history HTTP/1.1\" 200 None\n",
      "I1003 18:16:30.041810  8916 connectionpool.py:813] Starting new HTTPS connection (1): finance.yahoo.com:443\n",
      "2019-10-03 18:16:30 PC-Stefan urllib3.connectionpool[18304] DEBUG Starting new HTTPS connection (1): finance.yahoo.com:443\n",
      "I1003 18:16:30.396066  8916 connectionpool.py:393] https://finance.yahoo.com:443 \"GET /quote/GOLD/history?period1=1325386800&period2=1514861999&interval=1d&frequency=1d&filter=history HTTP/1.1\" 200 None\n",
      "2019-10-03 18:16:30 PC-Stefan urllib3.connectionpool[18304] DEBUG https://finance.yahoo.com:443 \"GET /quote/GOLD/history?period1=1325386800&period2=1514861999&interval=1d&frequency=1d&filter=history HTTP/1.1\" 200 None\n",
      "I1003 18:16:30.543217  8916 connectionpool.py:813] Starting new HTTPS connection (1): finance.yahoo.com:443\n",
      "2019-10-03 18:16:30 PC-Stefan urllib3.connectionpool[18304] DEBUG Starting new HTTPS connection (1): finance.yahoo.com:443\n",
      "I1003 18:16:30.859682  8916 connectionpool.py:393] https://finance.yahoo.com:443 \"GET /quote/ADBE/history?period1=1514775600&period2=1570154399&interval=1d&frequency=1d&filter=history HTTP/1.1\" 200 None\n",
      "2019-10-03 18:16:30 PC-Stefan urllib3.connectionpool[18304] DEBUG https://finance.yahoo.com:443 \"GET /quote/ADBE/history?period1=1514775600&period2=1570154399&interval=1d&frequency=1d&filter=history HTTP/1.1\" 200 None\n",
      "I1003 18:16:31.182704  8916 connectionpool.py:393] https://finance.yahoo.com:443 \"GET /quote/AAPL/history?period1=1514775600&period2=1570154399&interval=1d&frequency=1d&filter=history HTTP/1.1\" 200 None\n",
      "2019-10-03 18:16:31 PC-Stefan urllib3.connectionpool[18304] DEBUG https://finance.yahoo.com:443 \"GET /quote/AAPL/history?period1=1514775600&period2=1570154399&interval=1d&frequency=1d&filter=history HTTP/1.1\" 200 None\n",
      "I1003 18:16:31.514576  8916 connectionpool.py:393] https://finance.yahoo.com:443 \"GET /quote/RCL/history?period1=1514775600&period2=1570154399&interval=1d&frequency=1d&filter=history HTTP/1.1\" 200 None\n",
      "2019-10-03 18:16:31 PC-Stefan urllib3.connectionpool[18304] DEBUG https://finance.yahoo.com:443 \"GET /quote/RCL/history?period1=1514775600&period2=1570154399&interval=1d&frequency=1d&filter=history HTTP/1.1\" 200 None\n",
      "I1003 18:16:31.946910  8916 connectionpool.py:393] https://finance.yahoo.com:443 \"GET /quote/COST/history?period1=1514775600&period2=1570154399&interval=1d&frequency=1d&filter=history HTTP/1.1\" 200 None\n",
      "2019-10-03 18:16:31 PC-Stefan urllib3.connectionpool[18304] DEBUG https://finance.yahoo.com:443 \"GET /quote/COST/history?period1=1514775600&period2=1570154399&interval=1d&frequency=1d&filter=history HTTP/1.1\" 200 None\n",
      "I1003 18:16:32.332444  8916 connectionpool.py:393] https://finance.yahoo.com:443 \"GET /quote/ANF/history?period1=1514775600&period2=1570154399&interval=1d&frequency=1d&filter=history HTTP/1.1\" 200 None\n",
      "2019-10-03 18:16:32 PC-Stefan urllib3.connectionpool[18304] DEBUG https://finance.yahoo.com:443 \"GET /quote/ANF/history?period1=1514775600&period2=1570154399&interval=1d&frequency=1d&filter=history HTTP/1.1\" 200 None\n",
      "I1003 18:16:32.686739  8916 connectionpool.py:393] https://finance.yahoo.com:443 \"GET /quote/GOLD/history?period1=1514775600&period2=1570154399&interval=1d&frequency=1d&filter=history HTTP/1.1\" 200 None\n",
      "2019-10-03 18:16:32 PC-Stefan urllib3.connectionpool[18304] DEBUG https://finance.yahoo.com:443 \"GET /quote/GOLD/history?period1=1514775600&period2=1570154399&interval=1d&frequency=1d&filter=history HTTP/1.1\" 200 None\n",
      "I1003 18:16:32.749249  8916 connectionpool.py:813] Starting new HTTPS connection (1): finance.yahoo.com:443\n",
      "2019-10-03 18:16:32 PC-Stefan urllib3.connectionpool[18304] DEBUG Starting new HTTPS connection (1): finance.yahoo.com:443\n",
      "I1003 18:16:33.050089  8916 connectionpool.py:393] https://finance.yahoo.com:443 \"GET /quote/GOLD/history?period1=1514775600&period2=1570154399&interval=1d&frequency=1d&filter=history HTTP/1.1\" 200 None\n",
      "2019-10-03 18:16:33 PC-Stefan urllib3.connectionpool[18304] DEBUG https://finance.yahoo.com:443 \"GET /quote/GOLD/history?period1=1514775600&period2=1570154399&interval=1d&frequency=1d&filter=history HTTP/1.1\" 200 None\n"
     ]
    },
    {
     "data": {
      "text/plain": [
       "<Figure size 432x288 with 0 Axes>"
      ]
     },
     "metadata": {},
     "output_type": "display_data"
    },
    {
     "data": {
      "image/png": "[encoded data removed]",
      "text/plain": [
       "<Figure size 432x288 with 1 Axes>"
      ]
     },
     "metadata": {
      "needs_background": "light"
     },
     "output_type": "display_data"
    }
   ],
   "source": [
    "# Loading Train Data\n",
    "# Setting Start and Enddate for Validation\n",
    "\n",
    "start_train= datetime.datetime(2012, 1, 1)\n",
    "end_train = datetime.datetime(2018, 1, 1)\n",
    "start_val = end_train\n",
    "end_val = datetime.datetime.now()\n",
    "\n",
    "\n",
    "# Load Test Data\n",
    "\n",
    "# Load several stocks\n",
    "df_train = web.DataReader(['ADBE', 'AAPL', 'RCL', 'COST', 'ANF', 'GOLD'],'yahoo',\n",
    "                               start=start_train, end=end_train)['Adj Close']\n",
    "\n",
    "df2_train = web.DataReader('GOLD','yahoo',\n",
    "                               start=start_train, #start_train\n",
    "                               end=end_train) #end_train\n",
    "\n",
    "\n",
    "df_val = web.DataReader(['ADBE', 'AAPL', 'RCL', 'COST', 'ANF', 'GOLD'],'yahoo',\n",
    "                               start=start_val, #start_train\n",
    "                               end=end_val)['Adj Close'] #end_val\n",
    "df2_val = web.DataReader('GOLD','yahoo',\n",
    "                               start=start_val, #start_val\n",
    "                               end=end_val)  #end_val\n",
    "\n",
    "\n",
    "# Convert df2_test to list\n",
    "df2_train_list = list(df2_train['Adj Close'])\n",
    "df2_val_list = list(df2_val['Adj Close'])\n",
    "\n",
    "plt.figure();\n",
    "df_train.plot();"
   ]
  },
  {
   "cell_type": "markdown",
   "metadata": {},
   "source": [
    "## Training of Model\n",
    " - List of stocks (loaded above) is shuffled in every epoch"
   ]
  },
  {
   "cell_type": "code",
   "execution_count": 44,
   "metadata": {},
   "outputs": [
    {
     "name": "stderr",
     "output_type": "stream",
     "text": [
      "I1003 21:41:46.634913  8916 train.py:156] switching to TensorFlow for CPU\n",
      "2019-10-03 21:41:46 PC-Stefan root[18304] DEBUG switching to TensorFlow for CPU\n"
     ]
    },
    {
     "name": "stdout",
     "output_type": "stream",
     "text": [
      "Symbols          GOLD        ANF       ADBE       COST       AAPL        RCL\n",
      "Date                                                                        \n",
      "2012-01-03  28.570000  22.927416  51.269413  22.028625  37.513138  67.481003\n",
      "2012-01-04  28.280001  23.270050  51.544937  22.215746  36.262455  67.058258\n",
      "2012-01-05  28.480000  23.173536  52.117188  22.113682  35.211254  66.412148\n",
      "2012-01-06  28.719999  22.941902  52.662014  21.688419  34.459309  64.713181\n",
      "2012-01-09  28.530001  23.023935  52.578468  21.756460  35.011761  63.022152\n"
     ]
    },
    {
     "name": "stderr",
     "output_type": "stream",
     "text": [
      "Episode 1/30: 100%|██████████| 1508/1508 [00:25<00:00, 59.96it/s]\n",
      "I1003 21:42:12.059944  8916 train.py:147] Episode 1/30 - Train Position: +$134.92  Val Position: +$18.13  Train Loss: 0.0828  (~25.1500 secs)\n",
      "2019-10-03 21:42:12 PC-Stefan root[18304] INFO Episode 1/30 - Train Position: +$134.92  Val Position: +$18.13  Train Loss: 0.0828  (~25.1500 secs)\n",
      "Episode 1/30: 100%|██████████| 1508/1508 [00:24<00:00, 61.89it/s]\n",
      "I1003 21:42:36.604889  8916 train.py:144] Episode 1/30 - Train Position: +$27.43  Val Position: USELESS  Train Loss: 0.0449  (~24.3674 secs)\n",
      "2019-10-03 21:42:36 PC-Stefan root[18304] INFO Episode 1/30 - Train Position: +$27.43  Val Position: USELESS  Train Loss: 0.0449  (~24.3674 secs)\n",
      "Episode 1/30: 100%|██████████| 1508/1508 [00:24<00:00, 62.26it/s]\n",
      "I1003 21:43:01.004733  8916 train.py:147] Episode 1/30 - Train Position: -$7.89  Val Position: +$36.96  Train Loss: 0.0204  (~24.2233 secs)\n",
      "2019-10-03 21:43:01 PC-Stefan root[18304] INFO Episode 1/30 - Train Position: -$7.89  Val Position: +$36.96  Train Loss: 0.0204  (~24.2233 secs)\n",
      "Episode 1/30: 100%|██████████| 1508/1508 [00:24<00:00, 62.59it/s]\n",
      "I1003 21:43:25.264788  8916 train.py:147] Episode 1/30 - Train Position: +$55.91  Val Position: -$21.67  Train Loss: 0.0247  (~24.0945 secs)\n",
      "2019-10-03 21:43:25 PC-Stefan root[18304] INFO Episode 1/30 - Train Position: +$55.91  Val Position: -$21.67  Train Loss: 0.0247  (~24.0945 secs)\n",
      "Episode 1/30: 100%|██████████| 1508/1508 [00:24<00:00, 62.00it/s]\n",
      "I1003 21:43:49.770075  8916 train.py:147] Episode 1/30 - Train Position: -$37.68  Val Position: -$49.97  Train Loss: 0.0100  (~24.3250 secs)\n",
      "2019-10-03 21:43:49 PC-Stefan root[18304] INFO Episode 1/30 - Train Position: -$37.68  Val Position: -$49.97  Train Loss: 0.0100  (~24.3250 secs)\n",
      "Episode 1/30: 100%|██████████| 1508/1508 [00:24<00:00, 62.10it/s]\n",
      "I1003 21:44:14.244700  8916 train.py:147] Episode 1/30 - Train Position: +$127.90  Val Position: +$111.27  Train Loss: 0.0320  (~24.2891 secs)\n",
      "2019-10-03 21:44:14 PC-Stefan root[18304] INFO Episode 1/30 - Train Position: +$127.90  Val Position: +$111.27  Train Loss: 0.0320  (~24.2891 secs)\n"
     ]
    },
    {
     "name": "stdout",
     "output_type": "stream",
     "text": [
      "Symbols          COST       GOLD       AAPL        ANF        RCL       ADBE\n",
      "Date                                                                        \n",
      "2012-01-03  28.570000  67.481003  22.028625  22.927416  37.513138  51.269413\n",
      "2012-01-04  28.280001  67.058258  22.215746  23.270050  36.262455  51.544937\n",
      "2012-01-05  28.480000  66.412148  22.113682  23.173536  35.211254  52.117188\n",
      "2012-01-06  28.719999  64.713181  21.688419  22.941902  34.459309  52.662014\n",
      "2012-01-09  28.530001  63.022152  21.756460  23.023935  35.011761  52.578468\n"
     ]
    },
    {
     "name": "stderr",
     "output_type": "stream",
     "text": [
      "Episode 2/30: 100%|██████████| 1508/1508 [00:24<00:00, 61.98it/s]\n",
      "I1003 21:44:38.770163  8916 train.py:147] Episode 2/30 - Train Position: +$78.41  Val Position: +$63.44  Train Loss: 0.0698  (~24.3315 secs)\n",
      "2019-10-03 21:44:38 PC-Stefan root[18304] INFO Episode 2/30 - Train Position: +$78.41  Val Position: +$63.44  Train Loss: 0.0698  (~24.3315 secs)\n",
      "Episode 2/30: 100%|██████████| 1508/1508 [00:24<00:00, 61.75it/s]\n",
      "I1003 21:45:03.375172  8916 train.py:147] Episode 2/30 - Train Position: +$152.14  Val Position: +$47.72  Train Loss: 0.0499  (~24.4226 secs)\n",
      "2019-10-03 21:45:03 PC-Stefan root[18304] INFO Episode 2/30 - Train Position: +$152.14  Val Position: +$47.72  Train Loss: 0.0499  (~24.4226 secs)\n",
      "Episode 2/30: 100%|██████████| 1508/1508 [00:24<00:00, 62.11it/s]\n",
      "I1003 21:45:27.834789  8916 train.py:147] Episode 2/30 - Train Position: -$29.15  Val Position: +$1.05  Train Loss: 0.0391  (~24.2755 secs)\n",
      "2019-10-03 21:45:27 PC-Stefan root[18304] INFO Episode 2/30 - Train Position: -$29.15  Val Position: +$1.05  Train Loss: 0.0391  (~24.2755 secs)\n",
      "Episode 2/30: 100%|██████████| 1508/1508 [00:24<00:00, 61.65it/s]\n",
      "I1003 21:45:52.494996  8916 train.py:147] Episode 2/30 - Train Position: +$91.32  Val Position: -$0.18  Train Loss: 0.0346  (~24.4605 secs)\n",
      "2019-10-03 21:45:52 PC-Stefan root[18304] INFO Episode 2/30 - Train Position: +$91.32  Val Position: -$0.18  Train Loss: 0.0346  (~24.4605 secs)\n",
      "Episode 2/30: 100%|██████████| 1508/1508 [00:24<00:00, 61.85it/s]\n",
      "I1003 21:46:17.054767  8916 train.py:147] Episode 2/30 - Train Position: +$25.84  Val Position: +$7.65  Train Loss: 0.0101  (~24.3777 secs)\n",
      "2019-10-03 21:46:17 PC-Stefan root[18304] INFO Episode 2/30 - Train Position: +$25.84  Val Position: +$7.65  Train Loss: 0.0101  (~24.3777 secs)\n",
      "Episode 2/30: 100%|██████████| 1508/1508 [00:24<00:00, 61.70it/s]\n",
      "I1003 21:46:41.684913  8916 train.py:147] Episode 2/30 - Train Position: +$116.10  Val Position: +$80.58  Train Loss: 0.0244  (~24.4490 secs)\n",
      "2019-10-03 21:46:41 PC-Stefan root[18304] INFO Episode 2/30 - Train Position: +$116.10  Val Position: +$80.58  Train Loss: 0.0244  (~24.4490 secs)\n"
     ]
    },
    {
     "name": "stdout",
     "output_type": "stream",
     "text": [
      "Symbols           RCL       AAPL       GOLD       COST       ADBE        ANF\n",
      "Date                                                                        \n",
      "2012-01-03  22.927416  37.513138  51.269413  67.481003  22.028625  28.570000\n",
      "2012-01-04  23.270050  36.262455  51.544937  67.058258  22.215746  28.280001\n",
      "2012-01-05  23.173536  35.211254  52.117188  66.412148  22.113682  28.480000\n",
      "2012-01-06  22.941902  34.459309  52.662014  64.713181  21.688419  28.719999\n",
      "2012-01-09  23.023935  35.011761  52.578468  63.022152  21.756460  28.530001\n"
     ]
    },
    {
     "name": "stderr",
     "output_type": "stream",
     "text": [
      "Episode 3/30: 100%|██████████| 1508/1508 [00:24<00:00, 61.83it/s]\n",
      "I1003 21:47:06.290057  8916 train.py:147] Episode 3/30 - Train Position: +$56.80  Val Position: -$1.69  Train Loss: 0.1007  (~24.3886 secs)\n",
      "2019-10-03 21:47:06 PC-Stefan root[18304] INFO Episode 3/30 - Train Position: +$56.80  Val Position: -$1.69  Train Loss: 0.1007  (~24.3886 secs)\n",
      "Episode 3/30: 100%|██████████| 1508/1508 [00:24<00:00, 61.02it/s]\n",
      "I1003 21:47:31.195194  8916 train.py:147] Episode 3/30 - Train Position: +$170.90  Val Position: +$2.19  Train Loss: 0.0293  (~24.7128 secs)\n",
      "2019-10-03 21:47:31 PC-Stefan root[18304] INFO Episode 3/30 - Train Position: +$170.90  Val Position: +$2.19  Train Loss: 0.0293  (~24.7128 secs)\n",
      "Episode 3/30: 100%|██████████| 1508/1508 [00:24<00:00, 61.94it/s]\n",
      "I1003 21:47:55.715988  8916 train.py:147] Episode 3/30 - Train Position: +$2.64  Val Position: +$1.06  Train Loss: 0.0246  (~24.3379 secs)\n",
      "2019-10-03 21:47:55 PC-Stefan root[18304] INFO Episode 3/30 - Train Position: +$2.64  Val Position: +$1.06  Train Loss: 0.0246  (~24.3379 secs)\n",
      "Episode 3/30: 100%|██████████| 1508/1508 [00:24<00:00, 61.74it/s]\n",
      "I1003 21:48:20.310082  8916 train.py:147] Episode 3/30 - Train Position: +$216.99  Val Position: +$84.24  Train Loss: 0.0817  (~24.4218 secs)\n",
      "2019-10-03 21:48:20 PC-Stefan root[18304] INFO Episode 3/30 - Train Position: +$216.99  Val Position: +$84.24  Train Loss: 0.0817  (~24.4218 secs)\n",
      "Episode 3/30: 100%|██████████| 1508/1508 [00:24<00:00, 62.24it/s]\n",
      "I1003 21:48:44.735060  8916 train.py:147] Episode 3/30 - Train Position: +$3.83  Val Position: +$32.22  Train Loss: 0.0265  (~24.2287 secs)\n",
      "2019-10-03 21:48:44 PC-Stefan root[18304] INFO Episode 3/30 - Train Position: +$3.83  Val Position: +$32.22  Train Loss: 0.0265  (~24.2287 secs)\n",
      "Episode 3/30: 100%|██████████| 1508/1508 [00:24<00:00, 62.11it/s]\n",
      "I1003 21:49:09.198635  8916 train.py:147] Episode 3/30 - Train Position: +$230.28  Val Position: +$91.59  Train Loss: 0.0592  (~24.2817 secs)\n",
      "2019-10-03 21:49:09 PC-Stefan root[18304] INFO Episode 3/30 - Train Position: +$230.28  Val Position: +$91.59  Train Loss: 0.0592  (~24.2817 secs)\n"
     ]
    },
    {
     "name": "stdout",
     "output_type": "stream",
     "text": [
      "Symbols          AAPL        RCL        ANF       COST       ADBE       GOLD\n",
      "Date                                                                        \n",
      "2012-01-03  51.269413  22.927416  67.481003  37.513138  22.028625  28.570000\n",
      "2012-01-04  51.544937  23.270050  67.058258  36.262455  22.215746  28.280001\n",
      "2012-01-05  52.117188  23.173536  66.412148  35.211254  22.113682  28.480000\n",
      "2012-01-06  52.662014  22.941902  64.713181  34.459309  21.688419  28.719999\n",
      "2012-01-09  52.578468  23.023935  63.022152  35.011761  21.756460  28.530001\n"
     ]
    },
    {
     "name": "stderr",
     "output_type": "stream",
     "text": [
      "Episode 4/30: 100%|██████████| 1508/1508 [00:24<00:00, 62.19it/s]\n",
      "I1003 21:49:33.634918  8916 train.py:147] Episode 4/30 - Train Position: -$21.24  Val Position: +$16.77  Train Loss: 0.0789  (~24.2516 secs)\n",
      "2019-10-03 21:49:33 PC-Stefan root[18304] INFO Episode 4/30 - Train Position: -$21.24  Val Position: +$16.77  Train Loss: 0.0789  (~24.2516 secs)\n",
      "Episode 4/30: 100%|██████████| 1508/1508 [00:24<00:00, 61.96it/s]\n",
      "I1003 21:49:58.165138  8916 train.py:147] Episode 4/30 - Train Position: +$166.54  Val Position: +$0.47  Train Loss: 0.0485  (~24.3389 secs)\n",
      "2019-10-03 21:49:58 PC-Stefan root[18304] INFO Episode 4/30 - Train Position: +$166.54  Val Position: +$0.47  Train Loss: 0.0485  (~24.3389 secs)\n",
      "Episode 4/30: 100%|██████████| 1508/1508 [00:24<00:00, 61.93it/s]\n",
      "I1003 21:50:22.715007  8916 train.py:147] Episode 4/30 - Train Position: -$70.05  Val Position: +$154.47  Train Loss: 0.0207  (~24.3499 secs)\n",
      "2019-10-03 21:50:22 PC-Stefan root[18304] INFO Episode 4/30 - Train Position: -$70.05  Val Position: +$154.47  Train Loss: 0.0207  (~24.3499 secs)\n",
      "Episode 4/30: 100%|██████████| 1508/1508 [00:24<00:00, 62.52it/s]\n",
      "I1003 21:50:47.020016  8916 train.py:147] Episode 4/30 - Train Position: +$68.40  Val Position: +$8.51  Train Loss: 0.0692  (~24.1240 secs)\n",
      "2019-10-03 21:50:47 PC-Stefan root[18304] INFO Episode 4/30 - Train Position: +$68.40  Val Position: +$8.51  Train Loss: 0.0692  (~24.1240 secs)\n",
      "Episode 4/30: 100%|██████████| 1508/1508 [00:23<00:00, 63.29it/s]\n",
      "I1003 21:51:11.035001  8916 train.py:147] Episode 4/30 - Train Position: -$5.98  Val Position: -$13.86  Train Loss: 0.0088  (~23.8293 secs)\n",
      "2019-10-03 21:51:11 PC-Stefan root[18304] INFO Episode 4/30 - Train Position: -$5.98  Val Position: -$13.86  Train Loss: 0.0088  (~23.8293 secs)\n",
      "Episode 4/30: 100%|██████████| 1508/1508 [00:23<00:00, 63.20it/s]\n",
      "I1003 21:51:35.080303  8916 train.py:147] Episode 4/30 - Train Position: +$97.89  Val Position: +$136.74  Train Loss: 0.0424  (~23.8667 secs)\n",
      "2019-10-03 21:51:35 PC-Stefan root[18304] INFO Episode 4/30 - Train Position: +$97.89  Val Position: +$136.74  Train Loss: 0.0424  (~23.8667 secs)\n"
     ]
    },
    {
     "name": "stdout",
     "output_type": "stream",
     "text": [
      "Symbols           ANF        RCL       COST       AAPL       ADBE       GOLD\n",
      "Date                                                                        \n",
      "2012-01-03  67.481003  22.927416  51.269413  37.513138  22.028625  28.570000\n",
      "2012-01-04  67.058258  23.270050  51.544937  36.262455  22.215746  28.280001\n",
      "2012-01-05  66.412148  23.173536  52.117188  35.211254  22.113682  28.480000\n",
      "2012-01-06  64.713181  22.941902  52.662014  34.459309  21.688419  28.719999\n",
      "2012-01-09  63.022152  23.023935  52.578468  35.011761  21.756460  28.530001\n"
     ]
    },
    {
     "name": "stderr",
     "output_type": "stream",
     "text": [
      "Episode 5/30: 100%|██████████| 1508/1508 [00:23<00:00, 63.15it/s]\n",
      "I1003 21:51:59.140363  8916 train.py:147] Episode 5/30 - Train Position: +$116.14  Val Position: +$21.96  Train Loss: 0.0832  (~23.8773 secs)\n",
      "2019-10-03 21:51:59 PC-Stefan root[18304] INFO Episode 5/30 - Train Position: +$116.14  Val Position: +$21.96  Train Loss: 0.0832  (~23.8773 secs)\n",
      "Episode 5/30: 100%|██████████| 1508/1508 [00:23<00:00, 62.90it/s]\n",
      "I1003 21:52:23.294975  8916 train.py:147] Episode 5/30 - Train Position: +$83.19  Val Position: +$0.00  Train Loss: 0.0379  (~23.9698 secs)\n",
      "2019-10-03 21:52:23 PC-Stefan root[18304] INFO Episode 5/30 - Train Position: +$83.19  Val Position: +$0.00  Train Loss: 0.0379  (~23.9698 secs)\n",
      "Episode 5/30: 100%|██████████| 1508/1508 [00:24<00:00, 62.39it/s]\n",
      "I1003 21:52:47.635354  8916 train.py:147] Episode 5/30 - Train Position: -$19.16  Val Position: +$74.36  Train Loss: 0.0199  (~24.1663 secs)\n",
      "2019-10-03 21:52:47 PC-Stefan root[18304] INFO Episode 5/30 - Train Position: -$19.16  Val Position: +$74.36  Train Loss: 0.0199  (~24.1663 secs)\n",
      "Episode 5/30: 100%|██████████| 1508/1508 [00:24<00:00, 62.76it/s]\n",
      "I1003 21:53:11.855218  8916 train.py:147] Episode 5/30 - Train Position: +$84.34  Val Position: -$61.49  Train Loss: 0.0783  (~24.0241 secs)\n",
      "2019-10-03 21:53:11 PC-Stefan root[18304] INFO Episode 5/30 - Train Position: +$84.34  Val Position: -$61.49  Train Loss: 0.0783  (~24.0241 secs)\n",
      "Episode 5/30: 100%|██████████| 1508/1508 [00:23<00:00, 63.04it/s]\n",
      "I1003 21:53:35.945281  8916 train.py:147] Episode 5/30 - Train Position: -$3.89  Val Position: +$50.25  Train Loss: 0.0160  (~23.9156 secs)\n",
      "2019-10-03 21:53:35 PC-Stefan root[18304] INFO Episode 5/30 - Train Position: -$3.89  Val Position: +$50.25  Train Loss: 0.0160  (~23.9156 secs)\n",
      "Episode 5/30: 100%|██████████| 1508/1508 [00:24<00:00, 62.68it/s]\n",
      "I1003 21:54:00.190402  8916 train.py:147] Episode 5/30 - Train Position: +$72.29  Val Position: +$221.08  Train Loss: 0.0542  (~24.0624 secs)\n",
      "2019-10-03 21:54:00 PC-Stefan root[18304] INFO Episode 5/30 - Train Position: +$72.29  Val Position: +$221.08  Train Loss: 0.0542  (~24.0624 secs)\n"
     ]
    },
    {
     "name": "stdout",
     "output_type": "stream",
     "text": [
      "Symbols          AAPL       COST       ADBE        ANF       GOLD        RCL\n",
      "Date                                                                        \n",
      "2012-01-03  51.269413  37.513138  67.481003  28.570000  22.028625  22.927416\n",
      "2012-01-04  51.544937  36.262455  67.058258  28.280001  22.215746  23.270050\n",
      "2012-01-05  52.117188  35.211254  66.412148  28.480000  22.113682  23.173536\n",
      "2012-01-06  52.662014  34.459309  64.713181  28.719999  21.688419  22.941902\n",
      "2012-01-09  52.578468  35.011761  63.022152  28.530001  21.756460  23.023935\n"
     ]
    },
    {
     "name": "stderr",
     "output_type": "stream",
     "text": [
      "Episode 6/30: 100%|██████████| 1508/1508 [00:23<00:00, 63.06it/s]\n",
      "I1003 21:54:24.290381  8916 train.py:147] Episode 6/30 - Train Position: +$88.59  Val Position: -$3.45  Train Loss: 0.0992  (~23.9147 secs)\n",
      "2019-10-03 21:54:24 PC-Stefan root[18304] INFO Episode 6/30 - Train Position: +$88.59  Val Position: -$3.45  Train Loss: 0.0992  (~23.9147 secs)\n",
      "Episode 6/30: 100%|██████████| 1508/1508 [00:24<00:00, 62.83it/s]\n",
      "I1003 21:54:48.475277  8916 train.py:147] Episode 6/30 - Train Position: +$130.15  Val Position: +$6.78  Train Loss: 0.0601  (~24.0037 secs)\n",
      "2019-10-03 21:54:48 PC-Stefan root[18304] INFO Episode 6/30 - Train Position: +$130.15  Val Position: +$6.78  Train Loss: 0.0601  (~24.0037 secs)\n",
      "Episode 6/30: 100%|██████████| 1508/1508 [00:23<00:00, 62.99it/s]\n",
      "I1003 21:55:12.605222  8916 train.py:147] Episode 6/30 - Train Position: -$48.74  Val Position: +$94.90  Train Loss: 0.0205  (~23.9441 secs)\n",
      "2019-10-03 21:55:12 PC-Stefan root[18304] INFO Episode 6/30 - Train Position: -$48.74  Val Position: +$94.90  Train Loss: 0.0205  (~23.9441 secs)\n",
      "Episode 6/30: 100%|██████████| 1508/1508 [00:23<00:00, 62.87it/s]\n",
      "I1003 21:55:36.774996  8916 train.py:147] Episode 6/30 - Train Position: +$67.54  Val Position: +$145.93  Train Loss: 0.0588  (~23.9891 secs)\n",
      "2019-10-03 21:55:36 PC-Stefan root[18304] INFO Episode 6/30 - Train Position: +$67.54  Val Position: +$145.93  Train Loss: 0.0588  (~23.9891 secs)\n",
      "Episode 6/30: 100%|██████████| 1508/1508 [00:24<00:00, 62.78it/s]\n",
      "I1003 21:56:00.975011  8916 train.py:147] Episode 6/30 - Train Position: -$8.11  Val Position: +$50.54  Train Loss: 0.0749  (~24.0177 secs)\n",
      "2019-10-03 21:56:00 PC-Stefan root[18304] INFO Episode 6/30 - Train Position: -$8.11  Val Position: +$50.54  Train Loss: 0.0749  (~24.0177 secs)\n",
      "Episode 6/30: 100%|██████████| 1508/1508 [00:24<00:00, 62.47it/s]\n",
      "I1003 21:56:25.295273  8916 train.py:147] Episode 6/30 - Train Position: +$34.69  Val Position: -$2.98  Train Loss: 0.0451  (~24.1421 secs)\n",
      "2019-10-03 21:56:25 PC-Stefan root[18304] INFO Episode 6/30 - Train Position: +$34.69  Val Position: -$2.98  Train Loss: 0.0451  (~24.1421 secs)\n"
     ]
    },
    {
     "name": "stdout",
     "output_type": "stream",
     "text": [
      "Symbols           RCL        ANF       GOLD       AAPL       ADBE       COST\n",
      "Date                                                                        \n",
      "2012-01-03  22.927416  67.481003  51.269413  37.513138  22.028625  28.570000\n",
      "2012-01-04  23.270050  67.058258  51.544937  36.262455  22.215746  28.280001\n",
      "2012-01-05  23.173536  66.412148  52.117188  35.211254  22.113682  28.480000\n",
      "2012-01-06  22.941902  64.713181  52.662014  34.459309  21.688419  28.719999\n",
      "2012-01-09  23.023935  63.022152  52.578468  35.011761  21.756460  28.530001\n"
     ]
    },
    {
     "name": "stderr",
     "output_type": "stream",
     "text": [
      "Episode 7/30: 100%|██████████| 1508/1508 [00:23<00:00, 63.07it/s]\n",
      "I1003 21:56:49.400178  8916 train.py:147] Episode 7/30 - Train Position: +$49.71  Val Position: -$0.82  Train Loss: 0.0266  (~23.9116 secs)\n",
      "2019-10-03 21:56:49 PC-Stefan root[18304] INFO Episode 7/30 - Train Position: +$49.71  Val Position: -$0.82  Train Loss: 0.0266  (~23.9116 secs)\n",
      "Episode 7/30: 100%|██████████| 1508/1508 [00:24<00:00, 62.49it/s]\n",
      "I1003 21:57:13.715421  8916 train.py:147] Episode 7/30 - Train Position: +$94.19  Val Position: +$34.70  Train Loss: 0.0170  (~24.1343 secs)\n",
      "2019-10-03 21:57:13 PC-Stefan root[18304] INFO Episode 7/30 - Train Position: +$94.19  Val Position: +$34.70  Train Loss: 0.0170  (~24.1343 secs)\n",
      "Episode 7/30: 100%|██████████| 1508/1508 [00:24<00:00, 62.62it/s]\n",
      "I1003 21:57:37.975385  8916 train.py:147] Episode 7/30 - Train Position: -$14.25  Val Position: +$64.01  Train Loss: 0.0404  (~24.0738 secs)\n",
      "2019-10-03 21:57:37 PC-Stefan root[18304] INFO Episode 7/30 - Train Position: -$14.25  Val Position: +$64.01  Train Loss: 0.0404  (~24.0738 secs)\n",
      "Episode 7/30: 100%|██████████| 1508/1508 [00:23<00:00, 63.10it/s]\n",
      "I1003 21:58:02.050256  8916 train.py:147] Episode 7/30 - Train Position: +$56.87  Val Position: -$2.64  Train Loss: 0.0806  (~23.9034 secs)\n",
      "2019-10-03 21:58:02 PC-Stefan root[18304] INFO Episode 7/30 - Train Position: +$56.87  Val Position: -$2.64  Train Loss: 0.0806  (~23.9034 secs)\n",
      "Episode 7/30: 100%|██████████| 1508/1508 [00:24<00:00, 62.77it/s]\n",
      "I1003 21:58:26.250032  8916 train.py:147] Episode 7/30 - Train Position: -$7.79  Val Position: +$1.36  Train Loss: 0.0062  (~24.0189 secs)\n",
      "2019-10-03 21:58:26 PC-Stefan root[18304] INFO Episode 7/30 - Train Position: -$7.79  Val Position: +$1.36  Train Loss: 0.0062  (~24.0189 secs)\n",
      "Episode 7/30: 100%|██████████| 1508/1508 [00:23<00:00, 62.84it/s]\n",
      "I1003 21:58:50.440474  8916 train.py:147] Episode 7/30 - Train Position: +$48.06  Val Position: +$176.03  Train Loss: 0.0197  (~24.0050 secs)\n",
      "2019-10-03 21:58:50 PC-Stefan root[18304] INFO Episode 7/30 - Train Position: +$48.06  Val Position: +$176.03  Train Loss: 0.0197  (~24.0050 secs)\n"
     ]
    },
    {
     "name": "stdout",
     "output_type": "stream",
     "text": [
      "Symbols          COST       GOLD        ANF       ADBE        RCL       AAPL\n",
      "Date                                                                        \n",
      "2012-01-03  22.927416  51.269413  37.513138  22.028625  67.481003  28.570000\n",
      "2012-01-04  23.270050  51.544937  36.262455  22.215746  67.058258  28.280001\n",
      "2012-01-05  23.173536  52.117188  35.211254  22.113682  66.412148  28.480000\n",
      "2012-01-06  22.941902  52.662014  34.459309  21.688419  64.713181  28.719999\n",
      "2012-01-09  23.023935  52.578468  35.011761  21.756460  63.022152  28.530001\n"
     ]
    },
    {
     "name": "stderr",
     "output_type": "stream",
     "text": [
      "Episode 8/30: 100%|██████████| 1508/1508 [00:23<00:00, 62.94it/s]\n",
      "I1003 21:59:14.575321  8916 train.py:147] Episode 8/30 - Train Position: +$46.86  Val Position: -$1.88  Train Loss: 0.1119  (~23.9536 secs)\n",
      "2019-10-03 21:59:14 PC-Stefan root[18304] INFO Episode 8/30 - Train Position: +$46.86  Val Position: -$1.88  Train Loss: 0.1119  (~23.9536 secs)\n",
      "Episode 8/30: 100%|██████████| 1508/1508 [00:24<00:00, 62.34it/s]\n",
      "I1003 21:59:38.945406  8916 train.py:147] Episode 8/30 - Train Position: +$129.62  Val Position: +$46.22  Train Loss: 0.0331  (~24.1900 secs)\n",
      "2019-10-03 21:59:38 PC-Stefan root[18304] INFO Episode 8/30 - Train Position: +$129.62  Val Position: +$46.22  Train Loss: 0.0331  (~24.1900 secs)\n",
      "Episode 8/30: 100%|██████████| 1508/1508 [00:23<00:00, 63.04it/s]\n",
      "I1003 22:00:03.055058  8916 train.py:147] Episode 8/30 - Train Position: -$34.88  Val Position: -$107.43  Train Loss: 0.0553  (~23.9270 secs)\n",
      "2019-10-03 22:00:03 PC-Stefan root[18304] INFO Episode 8/30 - Train Position: -$34.88  Val Position: -$107.43  Train Loss: 0.0553  (~23.9270 secs)\n",
      "Episode 8/30: 100%|██████████| 1508/1508 [00:23<00:00, 63.13it/s]\n",
      "I1003 22:00:27.125205  8916 train.py:147] Episode 8/30 - Train Position: +$103.58  Val Position: -$129.09  Train Loss: 0.0532  (~23.8808 secs)\n",
      "2019-10-03 22:00:27 PC-Stefan root[18304] INFO Episode 8/30 - Train Position: +$103.58  Val Position: -$129.09  Train Loss: 0.0532  (~23.8808 secs)\n",
      "Episode 8/30: 100%|██████████| 1508/1508 [00:23<00:00, 62.90it/s]\n",
      "I1003 22:00:51.295551  8916 train.py:147] Episode 8/30 - Train Position: -$14.79  Val Position: +$72.84  Train Loss: 0.0492  (~23.9739 secs)\n",
      "2019-10-03 22:00:51 PC-Stefan root[18304] INFO Episode 8/30 - Train Position: -$14.79  Val Position: +$72.84  Train Loss: 0.0492  (~23.9739 secs)\n",
      "Episode 8/30: 100%|██████████| 1508/1508 [00:23<00:00, 63.00it/s]\n",
      "I1003 22:01:15.417101  8916 train.py:147] Episode 8/30 - Train Position: +$10.53  Val Position: +$158.65  Train Loss: 0.0386  (~23.9364 secs)\n",
      "2019-10-03 22:01:15 PC-Stefan root[18304] INFO Episode 8/30 - Train Position: +$10.53  Val Position: +$158.65  Train Loss: 0.0386  (~23.9364 secs)\n"
     ]
    },
    {
     "name": "stdout",
     "output_type": "stream",
     "text": [
      "Symbols          AAPL       COST       GOLD        ANF        RCL       ADBE\n",
      "Date                                                                        \n",
      "2012-01-03  51.269413  22.927416  28.570000  22.028625  67.481003  37.513138\n",
      "2012-01-04  51.544937  23.270050  28.280001  22.215746  67.058258  36.262455\n",
      "2012-01-05  52.117188  23.173536  28.480000  22.113682  66.412148  35.211254\n",
      "2012-01-06  52.662014  22.941902  28.719999  21.688419  64.713181  34.459309\n",
      "2012-01-09  52.578468  23.023935  28.530001  21.756460  63.022152  35.011761\n"
     ]
    },
    {
     "name": "stderr",
     "output_type": "stream",
     "text": [
      "Episode 9/30: 100%|██████████| 1508/1508 [00:23<00:00, 63.27it/s]\n",
      "I1003 22:01:39.440559  8916 train.py:147] Episode 9/30 - Train Position: +$95.50  Val Position: +$14.89  Train Loss: 0.0998  (~23.8357 secs)\n",
      "2019-10-03 22:01:39 PC-Stefan root[18304] INFO Episode 9/30 - Train Position: +$95.50  Val Position: +$14.89  Train Loss: 0.0998  (~23.8357 secs)\n",
      "Episode 9/30: 100%|██████████| 1508/1508 [00:23<00:00, 63.07it/s]\n",
      "I1003 22:02:03.545184  8916 train.py:147] Episode 9/30 - Train Position: +$207.58  Val Position: +$2.14  Train Loss: 0.0585  (~23.9111 secs)\n",
      "2019-10-03 22:02:03 PC-Stefan root[18304] INFO Episode 9/30 - Train Position: +$207.58  Val Position: +$2.14  Train Loss: 0.0585  (~23.9111 secs)\n",
      "Episode 9/30: 100%|██████████| 1508/1508 [00:23<00:00, 63.10it/s]\n",
      "I1003 22:02:27.625527  8916 train.py:147] Episode 9/30 - Train Position: -$25.95  Val Position: +$185.09  Train Loss: 0.0198  (~23.9004 secs)\n",
      "2019-10-03 22:02:27 PC-Stefan root[18304] INFO Episode 9/30 - Train Position: -$25.95  Val Position: +$185.09  Train Loss: 0.0198  (~23.9004 secs)\n",
      "Episode 9/30: 100%|██████████| 1508/1508 [00:23<00:00, 63.18it/s]\n",
      "I1003 22:02:51.685554  8916 train.py:147] Episode 9/30 - Train Position: +$66.30  Val Position: +$8.28  Train Loss: 0.0750  (~23.8724 secs)\n",
      "2019-10-03 22:02:51 PC-Stefan root[18304] INFO Episode 9/30 - Train Position: +$66.30  Val Position: +$8.28  Train Loss: 0.0750  (~23.8724 secs)\n",
      "Episode 9/30: 100%|██████████| 1508/1508 [00:23<00:00, 63.35it/s]\n",
      "I1003 22:03:15.675148  8916 train.py:147] Episode 9/30 - Train Position: -$3.34  Val Position: +$49.36  Train Loss: 0.0275  (~23.8021 secs)\n",
      "2019-10-03 22:03:15 PC-Stefan root[18304] INFO Episode 9/30 - Train Position: -$3.34  Val Position: +$49.36  Train Loss: 0.0275  (~23.8021 secs)\n",
      "Episode 9/30: 100%|██████████| 1508/1508 [00:23<00:00, 62.99it/s]\n",
      "I1003 22:03:39.785386  8916 train.py:147] Episode 9/30 - Train Position: +$71.38  Val Position: +$5.87  Train Loss: 0.0470  (~23.9406 secs)\n",
      "2019-10-03 22:03:39 PC-Stefan root[18304] INFO Episode 9/30 - Train Position: +$71.38  Val Position: +$5.87  Train Loss: 0.0470  (~23.9406 secs)\n"
     ]
    },
    {
     "name": "stdout",
     "output_type": "stream",
     "text": [
      "Symbols           RCL       ADBE       AAPL       COST       GOLD        ANF\n",
      "Date                                                                        \n",
      "2012-01-03  37.513138  28.570000  22.028625  67.481003  22.927416  51.269413\n",
      "2012-01-04  36.262455  28.280001  22.215746  67.058258  23.270050  51.544937\n",
      "2012-01-05  35.211254  28.480000  22.113682  66.412148  23.173536  52.117188\n",
      "2012-01-06  34.459309  28.719999  21.688419  64.713181  22.941902  52.662014\n",
      "2012-01-09  35.011761  28.530001  21.756460  63.022152  23.023935  52.578468\n"
     ]
    },
    {
     "name": "stderr",
     "output_type": "stream",
     "text": [
      "Episode 10/30: 100%|██████████| 1508/1508 [00:24<00:00, 62.60it/s]\n",
      "I1003 22:04:04.725381  8916 train.py:147] Episode 10/30 - Train Position: +$43.61  Val Position: -$2.11  Train Loss: 0.0373  (~24.0984 secs)\n",
      "2019-10-03 22:04:04 PC-Stefan root[18304] INFO Episode 10/30 - Train Position: +$43.61  Val Position: -$2.11  Train Loss: 0.0373  (~24.0984 secs)\n",
      "Episode 10/30: 100%|██████████| 1508/1508 [00:24<00:00, 62.47it/s]\n",
      "I1003 22:04:29.085564  8916 train.py:147] Episode 10/30 - Train Position: +$50.39  Val Position: +$290.77  Train Loss: 0.0205  (~24.1416 secs)\n",
      "2019-10-03 22:04:29 PC-Stefan root[18304] INFO Episode 10/30 - Train Position: +$50.39  Val Position: +$290.77  Train Loss: 0.0205  (~24.1416 secs)\n",
      "Episode 10/30: 100%|██████████| 1508/1508 [00:24<00:00, 62.73it/s]\n",
      "I1003 22:04:53.335282  8916 train.py:147] Episode 10/30 - Train Position: -$44.43  Val Position: +$14.03  Train Loss: 0.0969  (~24.0422 secs)\n",
      "2019-10-03 22:04:53 PC-Stefan root[18304] INFO Episode 10/30 - Train Position: -$44.43  Val Position: +$14.03  Train Loss: 0.0969  (~24.0422 secs)\n",
      "Episode 10/30: 100%|██████████| 1508/1508 [00:23<00:00, 63.12it/s]\n",
      "I1003 22:05:17.445335  8916 train.py:147] Episode 10/30 - Train Position: +$127.77  Val Position: +$39.96  Train Loss: 0.0371  (~23.8928 secs)\n",
      "2019-10-03 22:05:17 PC-Stefan root[18304] INFO Episode 10/30 - Train Position: +$127.77  Val Position: +$39.96  Train Loss: 0.0371  (~23.8928 secs)\n",
      "Episode 10/30: 100%|██████████| 1508/1508 [00:23<00:00, 63.28it/s]\n",
      "I1003 22:05:41.495273  8916 train.py:147] Episode 10/30 - Train Position: -$28.78  Val Position: -$0.81  Train Loss: 0.0373  (~23.8322 secs)\n",
      "2019-10-03 22:05:41 PC-Stefan root[18304] INFO Episode 10/30 - Train Position: -$28.78  Val Position: -$0.81  Train Loss: 0.0373  (~23.8322 secs)\n",
      "Episode 10/30: 100%|██████████| 1508/1508 [00:24<00:00, 62.62it/s]\n",
      "I1003 22:06:05.775547  8916 train.py:147] Episode 10/30 - Train Position: +$26.51  Val Position: +$83.24  Train Loss: 0.0098  (~24.0820 secs)\n",
      "2019-10-03 22:06:05 PC-Stefan root[18304] INFO Episode 10/30 - Train Position: +$26.51  Val Position: +$83.24  Train Loss: 0.0098  (~24.0820 secs)\n"
     ]
    },
    {
     "name": "stdout",
     "output_type": "stream",
     "text": [
      "Symbols          ADBE       GOLD       COST        RCL       AAPL        ANF\n",
      "Date                                                                        \n",
      "2012-01-03  22.028625  37.513138  22.927416  51.269413  67.481003  28.570000\n",
      "2012-01-04  22.215746  36.262455  23.270050  51.544937  67.058258  28.280001\n",
      "2012-01-05  22.113682  35.211254  23.173536  52.117188  66.412148  28.480000\n",
      "2012-01-06  21.688419  34.459309  22.941902  52.662014  64.713181  28.719999\n",
      "2012-01-09  21.756460  35.011761  23.023935  52.578468  63.022152  28.530001\n"
     ]
    },
    {
     "name": "stderr",
     "output_type": "stream",
     "text": [
      "Episode 11/30: 100%|██████████| 1508/1508 [00:24<00:00, 62.20it/s]\n",
      "I1003 22:06:30.215194  8916 train.py:147] Episode 11/30 - Train Position: +$6.20  Val Position: +$47.60  Train Loss: 0.0857  (~24.2466 secs)\n",
      "2019-10-03 22:06:30 PC-Stefan root[18304] INFO Episode 11/30 - Train Position: +$6.20  Val Position: +$47.60  Train Loss: 0.0857  (~24.2466 secs)\n",
      "Episode 11/30: 100%|██████████| 1508/1508 [00:24<00:00, 62.55it/s]\n",
      "I1003 22:06:54.510618  8916 train.py:147] Episode 11/30 - Train Position: +$78.21  Val Position: -$15.62  Train Loss: 0.0915  (~24.1150 secs)\n",
      "2019-10-03 22:06:54 PC-Stefan root[18304] INFO Episode 11/30 - Train Position: +$78.21  Val Position: -$15.62  Train Loss: 0.0915  (~24.1150 secs)\n",
      "Episode 11/30: 100%|██████████| 1508/1508 [00:23<00:00, 62.85it/s]\n",
      "I1003 22:07:18.695435  8916 train.py:147] Episode 11/30 - Train Position: -$12.19  Val Position: -$0.08  Train Loss: 0.0246  (~24.0012 secs)\n",
      "2019-10-03 22:07:18 PC-Stefan root[18304] INFO Episode 11/30 - Train Position: -$12.19  Val Position: -$0.08  Train Loss: 0.0246  (~24.0012 secs)\n",
      "Episode 11/30: 100%|██████████| 1508/1508 [00:24<00:00, 62.77it/s]\n",
      "I1003 22:07:42.905331  8916 train.py:147] Episode 11/30 - Train Position: -$13.49  Val Position: -$21.92  Train Loss: 0.0089  (~24.0281 secs)\n",
      "2019-10-03 22:07:42 PC-Stefan root[18304] INFO Episode 11/30 - Train Position: -$13.49  Val Position: -$21.92  Train Loss: 0.0089  (~24.0281 secs)\n",
      "Episode 11/30: 100%|██████████| 1508/1508 [00:23<00:00, 62.86it/s]\n",
      "I1003 22:08:07.085380  8916 train.py:147] Episode 11/30 - Train Position: -$31.76  Val Position: +$44.15  Train Loss: 0.0352  (~23.9923 secs)\n",
      "2019-10-03 22:08:07 PC-Stefan root[18304] INFO Episode 11/30 - Train Position: -$31.76  Val Position: +$44.15  Train Loss: 0.0352  (~23.9923 secs)\n",
      "Episode 11/30: 100%|██████████| 1508/1508 [00:23<00:00, 63.51it/s]\n",
      "I1003 22:08:31.020422  8916 train.py:147] Episode 11/30 - Train Position: +$159.34  Val Position: +$504.73  Train Loss: 0.0496  (~23.7440 secs)\n",
      "2019-10-03 22:08:31 PC-Stefan root[18304] INFO Episode 11/30 - Train Position: +$159.34  Val Position: +$504.73  Train Loss: 0.0496  (~23.7440 secs)\n"
     ]
    },
    {
     "name": "stdout",
     "output_type": "stream",
     "text": [
      "Symbols           RCL       ADBE       AAPL       COST       GOLD        ANF\n",
      "Date                                                                        \n",
      "2012-01-03  37.513138  28.570000  22.028625  67.481003  22.927416  51.269413\n",
      "2012-01-04  36.262455  28.280001  22.215746  67.058258  23.270050  51.544937\n",
      "2012-01-05  35.211254  28.480000  22.113682  66.412148  23.173536  52.117188\n",
      "2012-01-06  34.459309  28.719999  21.688419  64.713181  22.941902  52.662014\n",
      "2012-01-09  35.011761  28.530001  21.756460  63.022152  23.023935  52.578468\n"
     ]
    },
    {
     "name": "stderr",
     "output_type": "stream",
     "text": [
      "Episode 12/30: 100%|██████████| 1508/1508 [00:23<00:00, 63.12it/s]\n",
      "I1003 22:08:55.105255  8916 train.py:147] Episode 12/30 - Train Position: -$211.12  Val Position: +$4.05  Train Loss: 0.2004  (~23.8970 secs)\n",
      "2019-10-03 22:08:55 PC-Stefan root[18304] INFO Episode 12/30 - Train Position: -$211.12  Val Position: +$4.05  Train Loss: 0.2004  (~23.8970 secs)\n",
      "Episode 12/30: 100%|██████████| 1508/1508 [00:23<00:00, 62.93it/s]\n",
      "I1003 22:09:19.265636  8916 train.py:147] Episode 12/30 - Train Position: +$202.61  Val Position: +$802.65  Train Loss: 0.0291  (~23.9597 secs)\n",
      "2019-10-03 22:09:19 PC-Stefan root[18304] INFO Episode 12/30 - Train Position: +$202.61  Val Position: +$802.65  Train Loss: 0.0291  (~23.9597 secs)\n",
      "Episode 12/30: 100%|██████████| 1508/1508 [00:23<00:00, 62.91it/s]\n",
      "I1003 22:09:43.420376  8916 train.py:147] Episode 12/30 - Train Position: -$40.12  Val Position: +$40.41  Train Loss: 0.2559  (~23.9746 secs)\n",
      "2019-10-03 22:09:43 PC-Stefan root[18304] INFO Episode 12/30 - Train Position: -$40.12  Val Position: +$40.41  Train Loss: 0.2559  (~23.9746 secs)\n",
      "Episode 12/30: 100%|██████████| 1508/1508 [00:23<00:00, 63.29it/s]\n",
      "I1003 22:10:07.425472  8916 train.py:147] Episode 12/30 - Train Position: +$181.92  Val Position: +$56.09  Train Loss: 0.0665  (~23.8299 secs)\n",
      "2019-10-03 22:10:07 PC-Stefan root[18304] INFO Episode 12/30 - Train Position: +$181.92  Val Position: +$56.09  Train Loss: 0.0665  (~23.8299 secs)\n",
      "Episode 12/30: 100%|██████████| 1508/1508 [00:23<00:00, 62.95it/s]\n",
      "I1003 22:10:31.560503  8916 train.py:147] Episode 12/30 - Train Position: +$9.41  Val Position: +$0.37  Train Loss: 0.0378  (~23.9610 secs)\n",
      "2019-10-03 22:10:31 PC-Stefan root[18304] INFO Episode 12/30 - Train Position: +$9.41  Val Position: +$0.37  Train Loss: 0.0378  (~23.9610 secs)\n",
      "Episode 12/30: 100%|██████████| 1508/1508 [00:24<00:00, 62.33it/s]\n",
      "I1003 22:10:55.935497  8916 train.py:147] Episode 12/30 - Train Position: +$22.03  Val Position: +$112.73  Train Loss: 0.0161  (~24.2002 secs)\n",
      "2019-10-03 22:10:55 PC-Stefan root[18304] INFO Episode 12/30 - Train Position: +$22.03  Val Position: +$112.73  Train Loss: 0.0161  (~24.2002 secs)\n"
     ]
    },
    {
     "name": "stdout",
     "output_type": "stream",
     "text": [
      "Symbols          ADBE        ANF       AAPL       COST       GOLD        RCL\n",
      "Date                                                                        \n",
      "2012-01-03  37.513138  51.269413  28.570000  22.927416  67.481003  22.028625\n",
      "2012-01-04  36.262455  51.544937  28.280001  23.270050  67.058258  22.215746\n",
      "2012-01-05  35.211254  52.117188  28.480000  23.173536  66.412148  22.113682\n",
      "2012-01-06  34.459309  52.662014  28.719999  22.941902  64.713181  21.688419\n",
      "2012-01-09  35.011761  52.578468  28.530001  23.023935  63.022152  21.756460\n"
     ]
    },
    {
     "name": "stderr",
     "output_type": "stream",
     "text": [
      "Episode 13/30: 100%|██████████| 1508/1508 [00:23<00:00, 63.31it/s]\n",
      "I1003 22:11:19.950336  8916 train.py:147] Episode 13/30 - Train Position: +$53.22  Val Position: -$0.64  Train Loss: 0.1059  (~23.8244 secs)\n",
      "2019-10-03 22:11:19 PC-Stefan root[18304] INFO Episode 13/30 - Train Position: +$53.22  Val Position: -$0.64  Train Loss: 0.1059  (~23.8244 secs)\n",
      "Episode 13/30: 100%|██████████| 1508/1508 [00:23<00:00, 62.87it/s]\n",
      "I1003 22:11:44.125396  8916 train.py:147] Episode 13/30 - Train Position: +$138.64  Val Position: +$123.39  Train Loss: 0.0238  (~23.9845 secs)\n",
      "2019-10-03 22:11:44 PC-Stefan root[18304] INFO Episode 13/30 - Train Position: +$138.64  Val Position: +$123.39  Train Loss: 0.0238  (~23.9845 secs)\n",
      "Episode 13/30: 100%|██████████| 1508/1508 [00:24<00:00, 62.63it/s]\n",
      "I1003 22:12:08.400414  8916 train.py:147] Episode 13/30 - Train Position: +$9.51  Val Position: +$205.05  Train Loss: 0.0880  (~24.0775 secs)\n",
      "2019-10-03 22:12:08 PC-Stefan root[18304] INFO Episode 13/30 - Train Position: +$9.51  Val Position: +$205.05  Train Loss: 0.0880  (~24.0775 secs)\n",
      "Episode 13/30: 100%|██████████| 1508/1508 [00:24<00:00, 61.73it/s]\n",
      "I1003 22:12:33.015320  8916 train.py:147] Episode 13/30 - Train Position: +$521.17  Val Position: -$0.19  Train Loss: 0.1694  (~24.4302 secs)\n",
      "2019-10-03 22:12:33 PC-Stefan root[18304] INFO Episode 13/30 - Train Position: +$521.17  Val Position: -$0.19  Train Loss: 0.1694  (~24.4302 secs)\n",
      "Episode 13/30: 100%|██████████| 1508/1508 [00:23<00:00, 63.06it/s]\n",
      "I1003 22:12:57.120396  8916 train.py:147] Episode 13/30 - Train Position: +$1.54  Val Position: +$52.08  Train Loss: 0.0061  (~23.9178 secs)\n",
      "2019-10-03 22:12:57 PC-Stefan root[18304] INFO Episode 13/30 - Train Position: +$1.54  Val Position: +$52.08  Train Loss: 0.0061  (~23.9178 secs)\n",
      "Episode 13/30: 100%|██████████| 1508/1508 [00:24<00:00, 62.83it/s]\n",
      "I1003 22:13:21.305471  8916 train.py:147] Episode 13/30 - Train Position: +$7.78  Val Position: -$32.38  Train Loss: 0.0533  (~23.9995 secs)\n",
      "2019-10-03 22:13:21 PC-Stefan root[18304] INFO Episode 13/30 - Train Position: +$7.78  Val Position: -$32.38  Train Loss: 0.0533  (~23.9995 secs)\n"
     ]
    },
    {
     "name": "stdout",
     "output_type": "stream",
     "text": [
      "Symbols          COST        ANF       GOLD        RCL       ADBE       AAPL\n",
      "Date                                                                        \n",
      "2012-01-03  37.513138  51.269413  67.481003  22.927416  22.028625  28.570000\n",
      "2012-01-04  36.262455  51.544937  67.058258  23.270050  22.215746  28.280001\n",
      "2012-01-05  35.211254  52.117188  66.412148  23.173536  22.113682  28.480000\n",
      "2012-01-06  34.459309  52.662014  64.713181  22.941902  21.688419  28.719999\n",
      "2012-01-09  35.011761  52.578468  63.022152  23.023935  21.756460  28.530001\n"
     ]
    },
    {
     "name": "stderr",
     "output_type": "stream",
     "text": [
      "Episode 14/30: 100%|██████████| 1508/1508 [00:24<00:00, 62.70it/s]\n",
      "I1003 22:13:45.545422  8916 train.py:147] Episode 14/30 - Train Position: +$67.17  Val Position: +$0.44  Train Loss: 0.0733  (~24.0598 secs)\n",
      "2019-10-03 22:13:45 PC-Stefan root[18304] INFO Episode 14/30 - Train Position: +$67.17  Val Position: +$0.44  Train Loss: 0.0733  (~24.0598 secs)\n",
      "Episode 14/30: 100%|██████████| 1508/1508 [00:24<00:00, 62.53it/s]\n",
      "I1003 22:14:09.835625  8916 train.py:147] Episode 14/30 - Train Position: +$92.89  Val Position: +$149.07  Train Loss: 0.0194  (~24.1173 secs)\n",
      "2019-10-03 22:14:09 PC-Stefan root[18304] INFO Episode 14/30 - Train Position: +$92.89  Val Position: +$149.07  Train Loss: 0.0194  (~24.1173 secs)\n",
      "Episode 14/30: 100%|██████████| 1508/1508 [00:23<00:00, 62.88it/s]\n",
      "I1003 22:14:34.015379  8916 train.py:147] Episode 14/30 - Train Position: -$8.67  Val Position: +$92.12  Train Loss: 0.1020  (~23.9828 secs)\n",
      "2019-10-03 22:14:34 PC-Stefan root[18304] INFO Episode 14/30 - Train Position: -$8.67  Val Position: +$92.12  Train Loss: 0.1020  (~23.9828 secs)\n",
      "Episode 14/30: 100%|██████████| 1508/1508 [00:24<00:00, 62.54it/s]\n",
      "I1003 22:14:58.315805  8916 train.py:147] Episode 14/30 - Train Position: +$168.49  Val Position: -$0.04  Train Loss: 0.0635  (~24.1162 secs)\n",
      "2019-10-03 22:14:58 PC-Stefan root[18304] INFO Episode 14/30 - Train Position: +$168.49  Val Position: -$0.04  Train Loss: 0.0635  (~24.1162 secs)\n",
      "Episode 14/30: 100%|██████████| 1508/1508 [00:24<00:00, 62.51it/s]\n",
      "I1003 22:15:22.631528  8916 train.py:147] Episode 14/30 - Train Position: +$9.61  Val Position: -$5.55  Train Loss: 0.0131  (~24.1270 secs)\n",
      "2019-10-03 22:15:22 PC-Stefan root[18304] INFO Episode 14/30 - Train Position: +$9.61  Val Position: -$5.55  Train Loss: 0.0131  (~24.1270 secs)\n",
      "Episode 14/30: 100%|██████████| 1508/1508 [00:23<00:00, 63.02it/s]\n",
      "I1003 22:15:46.750447  8916 train.py:147] Episode 14/30 - Train Position: +$10.71  Val Position: +$667.50  Train Loss: 0.0587  (~23.9314 secs)\n",
      "2019-10-03 22:15:46 PC-Stefan root[18304] INFO Episode 14/30 - Train Position: +$10.71  Val Position: +$667.50  Train Loss: 0.0587  (~23.9314 secs)\n"
     ]
    },
    {
     "name": "stdout",
     "output_type": "stream",
     "text": [
      "Symbols           RCL       AAPL        ANF       GOLD       ADBE       COST\n",
      "Date                                                                        \n",
      "2012-01-03  22.927416  67.481003  37.513138  51.269413  22.028625  28.570000\n",
      "2012-01-04  23.270050  67.058258  36.262455  51.544937  22.215746  28.280001\n",
      "2012-01-05  23.173536  66.412148  35.211254  52.117188  22.113682  28.480000\n",
      "2012-01-06  22.941902  64.713181  34.459309  52.662014  21.688419  28.719999\n",
      "2012-01-09  23.023935  63.022152  35.011761  52.578468  21.756460  28.530001\n"
     ]
    },
    {
     "name": "stderr",
     "output_type": "stream",
     "text": [
      "Episode 15/30: 100%|██████████| 1508/1508 [00:24<00:00, 62.81it/s]\n",
      "I1003 22:16:10.980998  8916 train.py:147] Episode 15/30 - Train Position: +$80.44  Val Position: -$0.03  Train Loss: 0.2180  (~24.0144 secs)\n",
      "2019-10-03 22:16:10 PC-Stefan root[18304] INFO Episode 15/30 - Train Position: +$80.44  Val Position: -$0.03  Train Loss: 0.2180  (~24.0144 secs)\n",
      "Episode 15/30: 100%|██████████| 1508/1508 [00:23<00:00, 62.96it/s]\n",
      "I1003 22:16:35.105507  8916 train.py:147] Episode 15/30 - Train Position: +$114.97  Val Position: +$76.10  Train Loss: 0.0262  (~23.9515 secs)\n",
      "2019-10-03 22:16:35 PC-Stefan root[18304] INFO Episode 15/30 - Train Position: +$114.97  Val Position: +$76.10  Train Loss: 0.0262  (~23.9515 secs)\n",
      "Episode 15/30: 100%|██████████| 1508/1508 [00:24<00:00, 62.53it/s]\n",
      "I1003 22:16:59.405683  8916 train.py:147] Episode 15/30 - Train Position: -$18.06  Val Position: +$3.08  Train Loss: 0.0659  (~24.1260 secs)\n",
      "2019-10-03 22:16:59 PC-Stefan root[18304] INFO Episode 15/30 - Train Position: -$18.06  Val Position: +$3.08  Train Loss: 0.0659  (~24.1260 secs)\n",
      "Episode 15/30: 100%|██████████| 1508/1508 [00:24<00:00, 62.70it/s]\n",
      "I1003 22:17:23.645811  8916 train.py:147] Episode 15/30 - Train Position: +$106.71  Val Position: +$93.89  Train Loss: 0.0305  (~24.0548 secs)\n",
      "2019-10-03 22:17:23 PC-Stefan root[18304] INFO Episode 15/30 - Train Position: +$106.71  Val Position: +$93.89  Train Loss: 0.0305  (~24.0548 secs)\n",
      "Episode 15/30: 100%|██████████| 1508/1508 [00:23<00:00, 62.90it/s]\n",
      "I1003 22:17:47.798235  8916 train.py:147] Episode 15/30 - Train Position: -$359.18  Val Position: +$7.70  Train Loss: 0.0784  (~23.9760 secs)\n",
      "2019-10-03 22:17:47 PC-Stefan root[18304] INFO Episode 15/30 - Train Position: -$359.18  Val Position: +$7.70  Train Loss: 0.0784  (~23.9760 secs)\n",
      "Episode 15/30: 100%|██████████| 1508/1508 [00:23<00:00, 63.02it/s]\n",
      "I1003 22:18:11.900788  8916 train.py:147] Episode 15/30 - Train Position: +$43.51  Val Position: +$321.66  Train Loss: 0.0627  (~23.9331 secs)\n",
      "2019-10-03 22:18:11 PC-Stefan root[18304] INFO Episode 15/30 - Train Position: +$43.51  Val Position: +$321.66  Train Loss: 0.0627  (~23.9331 secs)\n"
     ]
    },
    {
     "name": "stdout",
     "output_type": "stream",
     "text": [
      "Symbols          AAPL       ADBE        ANF        RCL       COST       GOLD\n",
      "Date                                                                        \n",
      "2012-01-03  51.269413  37.513138  28.570000  22.927416  22.028625  67.481003\n",
      "2012-01-04  51.544937  36.262455  28.280001  23.270050  22.215746  67.058258\n",
      "2012-01-05  52.117188  35.211254  28.480000  23.173536  22.113682  66.412148\n",
      "2012-01-06  52.662014  34.459309  28.719999  22.941902  21.688419  64.713181\n",
      "2012-01-09  52.578468  35.011761  28.530001  23.023935  21.756460  63.022152\n"
     ]
    },
    {
     "name": "stderr",
     "output_type": "stream",
     "text": [
      "Episode 16/30: 100%|██████████| 1508/1508 [00:23<00:00, 62.86it/s]\n",
      "I1003 22:18:36.075593  8916 train.py:147] Episode 16/30 - Train Position: +$101.37  Val Position: +$184.75  Train Loss: 0.1510  (~23.9901 secs)\n",
      "2019-10-03 22:18:36 PC-Stefan root[18304] INFO Episode 16/30 - Train Position: +$101.37  Val Position: +$184.75  Train Loss: 0.1510  (~23.9901 secs)\n",
      "Episode 16/30: 100%|██████████| 1508/1508 [00:24<00:00, 62.60it/s]\n",
      "I1003 22:19:00.355907  8916 train.py:147] Episode 16/30 - Train Position: +$151.46  Val Position: -$11.51  Train Loss: 0.1317  (~24.0933 secs)\n",
      "2019-10-03 22:19:00 PC-Stefan root[18304] INFO Episode 16/30 - Train Position: +$151.46  Val Position: -$11.51  Train Loss: 0.1317  (~24.0933 secs)\n",
      "Episode 16/30: 100%|██████████| 1508/1508 [00:24<00:00, 62.73it/s]\n",
      "I1003 22:19:24.580805  8916 train.py:147] Episode 16/30 - Train Position: -$17.18  Val Position: +$186.45  Train Loss: 0.0683  (~24.0438 secs)\n",
      "2019-10-03 22:19:24 PC-Stefan root[18304] INFO Episode 16/30 - Train Position: -$17.18  Val Position: +$186.45  Train Loss: 0.0683  (~24.0438 secs)\n",
      "Episode 16/30: 100%|██████████| 1508/1508 [00:24<00:00, 62.31it/s]\n",
      "I1003 22:19:48.965513  8916 train.py:147] Episode 16/30 - Train Position: +$123.39  Val Position: -$1.92  Train Loss: 0.0849  (~24.2098 secs)\n",
      "2019-10-03 22:19:48 PC-Stefan root[18304] INFO Episode 16/30 - Train Position: +$123.39  Val Position: -$1.92  Train Loss: 0.0849  (~24.2098 secs)\n",
      "Episode 16/30: 100%|██████████| 1508/1508 [00:23<00:00, 62.95it/s]\n",
      "I1003 22:20:13.110781  8916 train.py:147] Episode 16/30 - Train Position: +$0.47  Val Position: +$55.68  Train Loss: 0.0110  (~23.9604 secs)\n",
      "2019-10-03 22:20:13 PC-Stefan root[18304] INFO Episode 16/30 - Train Position: +$0.47  Val Position: +$55.68  Train Loss: 0.0110  (~23.9604 secs)\n",
      "Episode 16/30: 100%|██████████| 1508/1508 [00:24<00:00, 62.66it/s]\n",
      "I1003 22:20:37.345529  8916 train.py:147] Episode 16/30 - Train Position: +$86.39  Val Position: +$62.61  Train Loss: 0.0924  (~24.0678 secs)\n",
      "2019-10-03 22:20:37 PC-Stefan root[18304] INFO Episode 16/30 - Train Position: +$86.39  Val Position: +$62.61  Train Loss: 0.0924  (~24.0678 secs)\n"
     ]
    },
    {
     "name": "stdout",
     "output_type": "stream",
     "text": [
      "Symbols          ADBE       AAPL       GOLD       COST        ANF        RCL\n",
      "Date                                                                        \n",
      "2012-01-03  22.927416  37.513138  51.269413  67.481003  28.570000  22.028625\n",
      "2012-01-04  23.270050  36.262455  51.544937  67.058258  28.280001  22.215746\n",
      "2012-01-05  23.173536  35.211254  52.117188  66.412148  28.480000  22.113682\n",
      "2012-01-06  22.941902  34.459309  52.662014  64.713181  28.719999  21.688419\n",
      "2012-01-09  23.023935  35.011761  52.578468  63.022152  28.530001  21.756460\n"
     ]
    },
    {
     "name": "stderr",
     "output_type": "stream",
     "text": [
      "Episode 17/30: 100%|██████████| 1508/1508 [00:23<00:00, 63.22it/s]\n",
      "I1003 22:21:01.385596  8916 train.py:147] Episode 17/30 - Train Position: +$97.03  Val Position: +$2.22  Train Loss: 0.1199  (~23.8603 secs)\n",
      "2019-10-03 22:21:01 PC-Stefan root[18304] INFO Episode 17/30 - Train Position: +$97.03  Val Position: +$2.22  Train Loss: 0.1199  (~23.8603 secs)\n",
      "Episode 17/30: 100%|██████████| 1508/1508 [00:24<00:00, 62.72it/s]\n",
      "I1003 22:21:25.625864  8916 train.py:147] Episode 17/30 - Train Position: +$198.37  Val Position: -$187.92  Train Loss: 0.0359  (~24.0499 secs)\n",
      "2019-10-03 22:21:25 PC-Stefan root[18304] INFO Episode 17/30 - Train Position: +$198.37  Val Position: -$187.92  Train Loss: 0.0359  (~24.0499 secs)\n",
      "Episode 17/30: 100%|██████████| 1508/1508 [00:23<00:00, 63.35it/s]\n",
      "I1003 22:21:49.606042  8916 train.py:147] Episode 17/30 - Train Position: -$23.93  Val Position: +$142.33  Train Loss: 0.0535  (~23.8079 secs)\n",
      "2019-10-03 22:21:49 PC-Stefan root[18304] INFO Episode 17/30 - Train Position: -$23.93  Val Position: +$142.33  Train Loss: 0.0535  (~23.8079 secs)\n",
      "Episode 17/30: 100%|██████████| 1508/1508 [00:23<00:00, 63.31it/s]\n",
      "I1003 22:22:13.615576  8916 train.py:147] Episode 17/30 - Train Position: +$145.52  Val Position: +$58.59  Train Loss: 0.1038  (~23.8259 secs)\n",
      "2019-10-03 22:22:13 PC-Stefan root[18304] INFO Episode 17/30 - Train Position: +$145.52  Val Position: +$58.59  Train Loss: 0.1038  (~23.8259 secs)\n",
      "Episode 17/30: 100%|██████████| 1508/1508 [00:23<00:00, 62.93it/s]\n",
      "I1003 22:22:37.756839  8916 train.py:147] Episode 17/30 - Train Position: -$26.84  Val Position: +$264.50  Train Loss: 0.0437  (~23.9661 secs)\n",
      "2019-10-03 22:22:37 PC-Stefan root[18304] INFO Episode 17/30 - Train Position: -$26.84  Val Position: +$264.50  Train Loss: 0.0437  (~23.9661 secs)\n",
      "Episode 17/30: 100%|██████████| 1508/1508 [00:23<00:00, 63.58it/s]\n",
      "I1003 22:23:01.653446  8916 train.py:147] Episode 17/30 - Train Position: +$171.42  Val Position: +$0.00  Train Loss: 0.1247  (~23.7146 secs)\n",
      "2019-10-03 22:23:01 PC-Stefan root[18304] INFO Episode 17/30 - Train Position: +$171.42  Val Position: +$0.00  Train Loss: 0.1247  (~23.7146 secs)\n"
     ]
    },
    {
     "name": "stdout",
     "output_type": "stream",
     "text": [
      "Symbols          COST       AAPL        ANF       GOLD        RCL       ADBE\n",
      "Date                                                                        \n",
      "2012-01-03  22.028625  22.927416  37.513138  28.570000  51.269413  67.481003\n",
      "2012-01-04  22.215746  23.270050  36.262455  28.280001  51.544937  67.058258\n",
      "2012-01-05  22.113682  23.173536  35.211254  28.480000  52.117188  66.412148\n",
      "2012-01-06  21.688419  22.941902  34.459309  28.719999  52.662014  64.713181\n",
      "2012-01-09  21.756460  23.023935  35.011761  28.530001  52.578468  63.022152\n"
     ]
    },
    {
     "name": "stderr",
     "output_type": "stream",
     "text": [
      "Episode 18/30: 100%|██████████| 1508/1508 [00:24<00:00, 62.29it/s]\n",
      "I1003 22:23:26.060928  8916 train.py:147] Episode 18/30 - Train Position: +$25.24  Val Position: +$1.35  Train Loss: 0.0649  (~24.2108 secs)\n",
      "2019-10-03 22:23:26 PC-Stefan root[18304] INFO Episode 18/30 - Train Position: +$25.24  Val Position: +$1.35  Train Loss: 0.0649  (~24.2108 secs)\n",
      "Episode 18/30: 100%|██████████| 1508/1508 [00:24<00:00, 62.68it/s]\n",
      "I1003 22:23:50.305754  8916 train.py:147] Episode 18/30 - Train Position: +$83.47  Val Position: +$1.64  Train Loss: 0.0388  (~24.0668 secs)\n",
      "2019-10-03 22:23:50 PC-Stefan root[18304] INFO Episode 18/30 - Train Position: +$83.47  Val Position: +$1.64  Train Loss: 0.0388  (~24.0668 secs)\n",
      "Episode 18/30: 100%|██████████| 1508/1508 [00:23<00:00, 63.02it/s]\n",
      "I1003 22:24:14.406062  8916 train.py:147] Episode 18/30 - Train Position: -$1.98  Val Position: -$6.46  Train Loss: 0.0379  (~23.9297 secs)\n",
      "2019-10-03 22:24:14 PC-Stefan root[18304] INFO Episode 18/30 - Train Position: -$1.98  Val Position: -$6.46  Train Loss: 0.0379  (~23.9297 secs)\n",
      "Episode 18/30: 100%|██████████| 1508/1508 [00:23<00:00, 62.96it/s]\n",
      "I1003 22:24:38.545690  8916 train.py:147] Episode 18/30 - Train Position: +$95.88  Val Position: +$307.09  Train Loss: 0.0290  (~23.9540 secs)\n",
      "2019-10-03 22:24:38 PC-Stefan root[18304] INFO Episode 18/30 - Train Position: +$95.88  Val Position: +$307.09  Train Loss: 0.0290  (~23.9540 secs)\n",
      "Episode 18/30: 100%|██████████| 1508/1508 [00:23<00:00, 63.23it/s]\n",
      "I1003 22:25:02.566085  8916 train.py:147] Episode 18/30 - Train Position: -$285.19  Val Position: +$130.42  Train Loss: 0.0965  (~23.8467 secs)\n",
      "2019-10-03 22:25:02 PC-Stefan root[18304] INFO Episode 18/30 - Train Position: -$285.19  Val Position: +$130.42  Train Loss: 0.0965  (~23.8467 secs)\n",
      "Episode 18/30: 100%|██████████| 1508/1508 [00:23<00:00, 62.85it/s]\n",
      "I1003 22:25:26.736013  8916 train.py:147] Episode 18/30 - Train Position: +$59.17  Val Position: +$153.36  Train Loss: 0.1246  (~23.9966 secs)\n",
      "2019-10-03 22:25:26 PC-Stefan root[18304] INFO Episode 18/30 - Train Position: +$59.17  Val Position: +$153.36  Train Loss: 0.1246  (~23.9966 secs)\n"
     ]
    },
    {
     "name": "stdout",
     "output_type": "stream",
     "text": [
      "Symbols           ANF        RCL       COST       AAPL       ADBE       GOLD\n",
      "Date                                                                        \n",
      "2012-01-03  28.570000  37.513138  22.028625  22.927416  51.269413  67.481003\n",
      "2012-01-04  28.280001  36.262455  22.215746  23.270050  51.544937  67.058258\n",
      "2012-01-05  28.480000  35.211254  22.113682  23.173536  52.117188  66.412148\n",
      "2012-01-06  28.719999  34.459309  21.688419  22.941902  52.662014  64.713181\n",
      "2012-01-09  28.530001  35.011761  21.756460  23.023935  52.578468  63.022152\n"
     ]
    },
    {
     "name": "stderr",
     "output_type": "stream",
     "text": [
      "Episode 19/30: 100%|██████████| 1508/1508 [00:24<00:00, 62.76it/s]\n",
      "I1003 22:25:50.945701  8916 train.py:147] Episode 19/30 - Train Position: -$83.19  Val Position: +$387.36  Train Loss: 0.1084  (~24.0269 secs)\n",
      "2019-10-03 22:25:50 PC-Stefan root[18304] INFO Episode 19/30 - Train Position: -$83.19  Val Position: +$387.36  Train Loss: 0.1084  (~24.0269 secs)\n",
      "Episode 19/30: 100%|██████████| 1508/1508 [00:23<00:00, 63.30it/s]\n",
      "I1003 22:26:14.948679  8916 train.py:147] Episode 19/30 - Train Position: +$261.71  Val Position: +$9.44  Train Loss: 0.1492  (~23.8294 secs)\n",
      "2019-10-03 22:26:14 PC-Stefan root[18304] INFO Episode 19/30 - Train Position: +$261.71  Val Position: +$9.44  Train Loss: 0.1492  (~23.8294 secs)\n",
      "Episode 19/30: 100%|██████████| 1508/1508 [00:23<00:00, 62.98it/s]\n",
      "I1003 22:26:39.086129  8916 train.py:147] Episode 19/30 - Train Position: -$22.14  Val Position: +$54.16  Train Loss: 0.0248  (~23.9474 secs)\n",
      "2019-10-03 22:26:39 PC-Stefan root[18304] INFO Episode 19/30 - Train Position: -$22.14  Val Position: +$54.16  Train Loss: 0.0248  (~23.9474 secs)\n",
      "Episode 19/30: 100%|██████████| 1508/1508 [00:24<00:00, 62.79it/s]\n",
      "I1003 22:27:03.280834  8916 train.py:147] Episode 19/30 - Train Position: +$83.67  Val Position: +$0.11  Train Loss: 0.0539  (~24.0177 secs)\n",
      "2019-10-03 22:27:03 PC-Stefan root[18304] INFO Episode 19/30 - Train Position: +$83.67  Val Position: +$0.11  Train Loss: 0.0539  (~24.0177 secs)\n",
      "Episode 19/30: 100%|██████████| 1508/1508 [00:23<00:00, 63.19it/s]\n",
      "I1003 22:27:27.325696  8916 train.py:147] Episode 19/30 - Train Position: +$1.96  Val Position: +$25.33  Train Loss: 0.0074  (~23.8714 secs)\n",
      "2019-10-03 22:27:27 PC-Stefan root[18304] INFO Episode 19/30 - Train Position: +$1.96  Val Position: +$25.33  Train Loss: 0.0074  (~23.8714 secs)\n",
      "Episode 19/30: 100%|██████████| 1508/1508 [00:23<00:00, 63.11it/s]\n",
      "I1003 22:27:51.425701  8916 train.py:147] Episode 19/30 - Train Position: +$172.69  Val Position: +$151.75  Train Loss: 0.0959  (~23.9015 secs)\n",
      "2019-10-03 22:27:51 PC-Stefan root[18304] INFO Episode 19/30 - Train Position: +$172.69  Val Position: +$151.75  Train Loss: 0.0959  (~23.9015 secs)\n"
     ]
    },
    {
     "name": "stdout",
     "output_type": "stream",
     "text": [
      "Symbols           RCL       AAPL       COST       GOLD        ANF       ADBE\n",
      "Date                                                                        \n",
      "2012-01-03  22.927416  67.481003  28.570000  51.269413  22.028625  37.513138\n",
      "2012-01-04  23.270050  67.058258  28.280001  51.544937  22.215746  36.262455\n",
      "2012-01-05  23.173536  66.412148  28.480000  52.117188  22.113682  35.211254\n",
      "2012-01-06  22.941902  64.713181  28.719999  52.662014  21.688419  34.459309\n",
      "2012-01-09  23.023935  63.022152  28.530001  52.578468  21.756460  35.011761\n"
     ]
    },
    {
     "name": "stderr",
     "output_type": "stream",
     "text": [
      "Episode 20/30: 100%|██████████| 1508/1508 [00:24<00:00, 62.61it/s]\n",
      "I1003 22:28:15.726006  8916 train.py:147] Episode 20/30 - Train Position: +$154.30  Val Position: +$107.66  Train Loss: 0.1275  (~24.0804 secs)\n",
      "2019-10-03 22:28:15 PC-Stefan root[18304] INFO Episode 20/30 - Train Position: +$154.30  Val Position: +$107.66  Train Loss: 0.1275  (~24.0804 secs)\n",
      "Episode 20/30: 100%|██████████| 1508/1508 [00:23<00:00, 62.87it/s]\n",
      "I1003 22:28:39.921170  8916 train.py:147] Episode 20/30 - Train Position: +$138.68  Val Position: +$196.02  Train Loss: 0.0425  (~23.9923 secs)\n",
      "2019-10-03 22:28:39 PC-Stefan root[18304] INFO Episode 20/30 - Train Position: +$138.68  Val Position: +$196.02  Train Loss: 0.0425  (~23.9923 secs)\n",
      "Episode 20/30: 100%|██████████| 1508/1508 [00:23<00:00, 62.86it/s]\n",
      "I1003 22:29:04.116184  8916 train.py:147] Episode 20/30 - Train Position: -$12.11  Val Position: +$265.07  Train Loss: 0.0846  (~23.9991 secs)\n",
      "2019-10-03 22:29:04 PC-Stefan root[18304] INFO Episode 20/30 - Train Position: -$12.11  Val Position: +$265.07  Train Loss: 0.0846  (~23.9991 secs)\n",
      "Episode 20/30: 100%|██████████| 1508/1508 [00:24<00:00, 62.24it/s]\n",
      "I1003 22:29:28.545756  8916 train.py:147] Episode 20/30 - Train Position: +$86.11  Val Position: +$40.83  Train Loss: 0.1228  (~24.2334 secs)\n",
      "2019-10-03 22:29:28 PC-Stefan root[18304] INFO Episode 20/30 - Train Position: +$86.11  Val Position: +$40.83  Train Loss: 0.1228  (~24.2334 secs)\n",
      "Episode 20/30: 100%|██████████| 1508/1508 [00:23<00:00, 62.90it/s]\n",
      "I1003 22:29:52.725839  8916 train.py:147] Episode 20/30 - Train Position: -$35.10  Val Position: +$82.90  Train Loss: 0.0388  (~23.9791 secs)\n",
      "2019-10-03 22:29:52 PC-Stefan root[18304] INFO Episode 20/30 - Train Position: -$35.10  Val Position: +$82.90  Train Loss: 0.0388  (~23.9791 secs)\n",
      "Episode 20/30: 100%|██████████| 1508/1508 [00:24<00:00, 62.61it/s]\n",
      "I1003 22:30:17.011194  8916 train.py:147] Episode 20/30 - Train Position: +$116.59  Val Position: -$3.51  Train Loss: 0.0980  (~24.0871 secs)\n",
      "2019-10-03 22:30:17 PC-Stefan root[18304] INFO Episode 20/30 - Train Position: +$116.59  Val Position: -$3.51  Train Loss: 0.0980  (~24.0871 secs)\n"
     ]
    },
    {
     "name": "stdout",
     "output_type": "stream",
     "text": [
      "Symbols          AAPL       ADBE        ANF       COST       GOLD        RCL\n",
      "Date                                                                        \n",
      "2012-01-03  22.927416  37.513138  28.570000  67.481003  51.269413  22.028625\n",
      "2012-01-04  23.270050  36.262455  28.280001  67.058258  51.544937  22.215746\n",
      "2012-01-05  23.173536  35.211254  28.480000  66.412148  52.117188  22.113682\n",
      "2012-01-06  22.941902  34.459309  28.719999  64.713181  52.662014  21.688419\n",
      "2012-01-09  23.023935  35.011761  28.530001  63.022152  52.578468  21.756460\n"
     ]
    },
    {
     "name": "stderr",
     "output_type": "stream",
     "text": [
      "Episode 21/30: 100%|██████████| 1508/1508 [00:24<00:00, 62.70it/s]\n",
      "I1003 22:30:41.245891  8916 train.py:147] Episode 21/30 - Train Position: +$1.36  Val Position: +$0.61  Train Loss: 0.0358  (~24.0506 secs)\n",
      "2019-10-03 22:30:41 PC-Stefan root[18304] INFO Episode 21/30 - Train Position: +$1.36  Val Position: +$0.61  Train Loss: 0.0358  (~24.0506 secs)\n",
      "Episode 21/30: 100%|██████████| 1508/1508 [00:23<00:00, 62.95it/s]\n",
      "I1003 22:31:05.375911  8916 train.py:147] Episode 21/30 - Train Position: +$238.53  Val Position: +$4.84  Train Loss: 0.0397  (~23.9591 secs)\n",
      "2019-10-03 22:31:05 PC-Stefan root[18304] INFO Episode 21/30 - Train Position: +$238.53  Val Position: +$4.84  Train Loss: 0.0397  (~23.9591 secs)\n",
      "Episode 21/30: 100%|██████████| 1508/1508 [00:23<00:00, 62.94it/s]\n",
      "I1003 22:31:29.520876  8916 train.py:147] Episode 21/30 - Train Position: -$21.23  Val Position: +$158.02  Train Loss: 0.0326  (~23.9637 secs)\n",
      "2019-10-03 22:31:29 PC-Stefan root[18304] INFO Episode 21/30 - Train Position: -$21.23  Val Position: +$158.02  Train Loss: 0.0326  (~23.9637 secs)\n",
      "Episode 21/30: 100%|██████████| 1508/1508 [00:23<00:00, 63.02it/s]\n",
      "I1003 22:31:53.626210  8916 train.py:147] Episode 21/30 - Train Position: +$89.68  Val Position: +$73.43  Train Loss: 0.0768  (~23.9276 secs)\n",
      "2019-10-03 22:31:53 PC-Stefan root[18304] INFO Episode 21/30 - Train Position: +$89.68  Val Position: +$73.43  Train Loss: 0.0768  (~23.9276 secs)\n",
      "Episode 21/30: 100%|██████████| 1508/1508 [00:23<00:00, 62.89it/s]\n",
      "I1003 22:32:17.797203  8916 train.py:147] Episode 21/30 - Train Position: +$6.45  Val Position: +$37.33  Train Loss: 0.0345  (~23.9856 secs)\n",
      "2019-10-03 22:32:17 PC-Stefan root[18304] INFO Episode 21/30 - Train Position: +$6.45  Val Position: +$37.33  Train Loss: 0.0345  (~23.9856 secs)\n",
      "Episode 21/30: 100%|██████████| 1508/1508 [00:24<00:00, 61.91it/s]\n",
      "I1003 22:32:42.335848  8916 train.py:147] Episode 21/30 - Train Position: +$127.03  Val Position: +$85.72  Train Loss: 0.1522  (~24.3610 secs)\n",
      "2019-10-03 22:32:42 PC-Stefan root[18304] INFO Episode 21/30 - Train Position: +$127.03  Val Position: +$85.72  Train Loss: 0.1522  (~24.3610 secs)\n"
     ]
    },
    {
     "name": "stdout",
     "output_type": "stream",
     "text": [
      "Symbols          AAPL       ADBE       COST        RCL       GOLD        ANF\n",
      "Date                                                                        \n",
      "2012-01-03  51.269413  28.570000  22.028625  37.513138  22.927416  67.481003\n",
      "2012-01-04  51.544937  28.280001  22.215746  36.262455  23.270050  67.058258\n",
      "2012-01-05  52.117188  28.480000  22.113682  35.211254  23.173536  66.412148\n",
      "2012-01-06  52.662014  28.719999  21.688419  34.459309  22.941902  64.713181\n",
      "2012-01-09  52.578468  28.530001  21.756460  35.011761  23.023935  63.022152\n"
     ]
    },
    {
     "name": "stderr",
     "output_type": "stream",
     "text": [
      "Episode 22/30: 100%|██████████| 1508/1508 [00:24<00:00, 62.29it/s]\n",
      "I1003 22:33:06.736138  8916 train.py:147] Episode 22/30 - Train Position: +$46.92  Val Position: +$31.18  Train Loss: 0.0793  (~24.2126 secs)\n",
      "2019-10-03 22:33:06 PC-Stefan root[18304] INFO Episode 22/30 - Train Position: +$46.92  Val Position: +$31.18  Train Loss: 0.0793  (~24.2126 secs)\n",
      "Episode 22/30: 100%|██████████| 1508/1508 [00:24<00:00, 62.52it/s]\n",
      "I1003 22:33:31.046093  8916 train.py:147] Episode 22/30 - Train Position: +$153.26  Val Position: +$289.38  Train Loss: 0.0661  (~24.1152 secs)\n",
      "2019-10-03 22:33:31 PC-Stefan root[18304] INFO Episode 22/30 - Train Position: +$153.26  Val Position: +$289.38  Train Loss: 0.0661  (~24.1152 secs)\n",
      "Episode 22/30: 100%|██████████| 1508/1508 [00:24<00:00, 62.52it/s]\n",
      "I1003 22:33:55.346137  8916 train.py:147] Episode 22/30 - Train Position: -$44.98  Val Position: +$59.36  Train Loss: 0.1052  (~24.1153 secs)\n",
      "2019-10-03 22:33:55 PC-Stefan root[18304] INFO Episode 22/30 - Train Position: -$44.98  Val Position: +$59.36  Train Loss: 0.1052  (~24.1153 secs)\n",
      "Episode 22/30: 100%|██████████| 1508/1508 [00:23<00:00, 62.94it/s]\n",
      "I1003 22:34:19.506209  8916 train.py:147] Episode 22/30 - Train Position: +$145.74  Val Position: -$0.45  Train Loss: 0.0551  (~23.9581 secs)\n",
      "2019-10-03 22:34:19 PC-Stefan root[18304] INFO Episode 22/30 - Train Position: +$145.74  Val Position: -$0.45  Train Loss: 0.0551  (~23.9581 secs)\n",
      "Episode 22/30: 100%|██████████| 1508/1508 [00:24<00:00, 62.61it/s]\n",
      "I1003 22:34:43.786230  8916 train.py:147] Episode 22/30 - Train Position: +$8.23  Val Position: -$1.44  Train Loss: 0.0142  (~24.0897 secs)\n",
      "2019-10-03 22:34:43 PC-Stefan root[18304] INFO Episode 22/30 - Train Position: +$8.23  Val Position: -$1.44  Train Loss: 0.0142  (~24.0897 secs)\n",
      "Episode 22/30: 100%|██████████| 1508/1508 [00:24<00:00, 62.31it/s]\n",
      "I1003 22:35:08.206287  8916 train.py:147] Episode 22/30 - Train Position: +$24.54  Val Position: +$101.06  Train Loss: 0.0185  (~24.1963 secs)\n",
      "2019-10-03 22:35:08 PC-Stefan root[18304] INFO Episode 22/30 - Train Position: +$24.54  Val Position: +$101.06  Train Loss: 0.0185  (~24.1963 secs)\n"
     ]
    },
    {
     "name": "stdout",
     "output_type": "stream",
     "text": [
      "Symbols          COST        ANF        RCL       GOLD       AAPL       ADBE\n",
      "Date                                                                        \n",
      "2012-01-03  28.570000  67.481003  22.927416  37.513138  22.028625  51.269413\n",
      "2012-01-04  28.280001  67.058258  23.270050  36.262455  22.215746  51.544937\n",
      "2012-01-05  28.480000  66.412148  23.173536  35.211254  22.113682  52.117188\n",
      "2012-01-06  28.719999  64.713181  22.941902  34.459309  21.688419  52.662014\n",
      "2012-01-09  28.530001  63.022152  23.023935  35.011761  21.756460  52.578468\n"
     ]
    },
    {
     "name": "stderr",
     "output_type": "stream",
     "text": [
      "Episode 23/30: 100%|██████████| 1508/1508 [00:24<00:00, 62.11it/s]\n",
      "I1003 22:35:32.696288  8916 train.py:147] Episode 23/30 - Train Position: +$236.64  Val Position: +$272.29  Train Loss: 0.0905  (~24.2773 secs)\n",
      "2019-10-03 22:35:32 PC-Stefan root[18304] INFO Episode 23/30 - Train Position: +$236.64  Val Position: +$272.29  Train Loss: 0.0905  (~24.2773 secs)\n",
      "Episode 23/30: 100%|██████████| 1508/1508 [00:24<00:00, 62.31it/s]\n",
      "I1003 22:35:57.076377  8916 train.py:147] Episode 23/30 - Train Position: +$173.22  Val Position: +$172.62  Train Loss: 0.1109  (~24.1993 secs)\n",
      "2019-10-03 22:35:57 PC-Stefan root[18304] INFO Episode 23/30 - Train Position: +$173.22  Val Position: +$172.62  Train Loss: 0.1109  (~24.1993 secs)\n",
      "Episode 23/30: 100%|██████████| 1508/1508 [00:23<00:00, 63.00it/s]\n",
      "I1003 22:36:21.196263  8916 train.py:147] Episode 23/30 - Train Position: -$9.17  Val Position: +$0.90  Train Loss: 0.0796  (~23.9397 secs)\n",
      "2019-10-03 22:36:21 PC-Stefan root[18304] INFO Episode 23/30 - Train Position: -$9.17  Val Position: +$0.90  Train Loss: 0.0796  (~23.9397 secs)\n",
      "Episode 23/30: 100%|██████████| 1508/1508 [00:24<00:00, 62.55it/s]\n",
      "I1003 22:36:45.486209  8916 train.py:147] Episode 23/30 - Train Position: +$256.31  Val Position: -$6.22  Train Loss: 0.0539  (~24.1102 secs)\n",
      "2019-10-03 22:36:45 PC-Stefan root[18304] INFO Episode 23/30 - Train Position: +$256.31  Val Position: -$6.22  Train Loss: 0.0539  (~24.1102 secs)\n",
      "Episode 23/30: 100%|██████████| 1508/1508 [00:24<00:00, 62.73it/s]\n",
      "I1003 22:37:09.706273  8916 train.py:147] Episode 23/30 - Train Position: -$2.18  Val Position: +$73.72  Train Loss: 0.0109  (~24.0414 secs)\n",
      "2019-10-03 22:37:09 PC-Stefan root[18304] INFO Episode 23/30 - Train Position: -$2.18  Val Position: +$73.72  Train Loss: 0.0109  (~24.0414 secs)\n",
      "Episode 23/30: 100%|██████████| 1508/1508 [00:24<00:00, 62.63it/s]\n",
      "I1003 22:37:33.996160  8916 train.py:147] Episode 23/30 - Train Position: +$81.98  Val Position: -$95.22  Train Loss: 0.0498  (~24.0809 secs)\n",
      "2019-10-03 22:37:33 PC-Stefan root[18304] INFO Episode 23/30 - Train Position: +$81.98  Val Position: -$95.22  Train Loss: 0.0498  (~24.0809 secs)\n"
     ]
    },
    {
     "name": "stdout",
     "output_type": "stream",
     "text": [
      "Symbols          ADBE       AAPL        ANF       COST        RCL       GOLD\n",
      "Date                                                                        \n",
      "2012-01-03  22.927416  22.028625  67.481003  37.513138  28.570000  51.269413\n",
      "2012-01-04  23.270050  22.215746  67.058258  36.262455  28.280001  51.544937\n",
      "2012-01-05  23.173536  22.113682  66.412148  35.211254  28.480000  52.117188\n",
      "2012-01-06  22.941902  21.688419  64.713181  34.459309  28.719999  52.662014\n",
      "2012-01-09  23.023935  21.756460  63.022152  35.011761  28.530001  52.578468\n"
     ]
    },
    {
     "name": "stderr",
     "output_type": "stream",
     "text": [
      "Episode 24/30: 100%|██████████| 1508/1508 [00:24<00:00, 62.21it/s]\n",
      "I1003 22:37:58.416193  8916 train.py:147] Episode 24/30 - Train Position: +$73.25  Val Position: +$67.49  Train Loss: 0.0965  (~24.2375 secs)\n",
      "2019-10-03 22:37:58 PC-Stefan root[18304] INFO Episode 24/30 - Train Position: +$73.25  Val Position: +$67.49  Train Loss: 0.0965  (~24.2375 secs)\n",
      "Episode 24/30: 100%|██████████| 1508/1508 [00:24<00:00, 62.70it/s]\n",
      "I1003 22:38:22.666186  8916 train.py:147] Episode 24/30 - Train Position: +$99.84  Val Position: +$34.46  Train Loss: 0.0370  (~24.0491 secs)\n",
      "2019-10-03 22:38:22 PC-Stefan root[18304] INFO Episode 24/30 - Train Position: +$99.84  Val Position: +$34.46  Train Loss: 0.0370  (~24.0491 secs)\n",
      "Episode 24/30: 100%|██████████| 1508/1508 [00:24<00:00, 62.70it/s]\n",
      "I1003 22:38:46.886091  8916 train.py:147] Episode 24/30 - Train Position: -$12.10  Val Position: +$27.15  Train Loss: 0.0594  (~24.0455 secs)\n",
      "2019-10-03 22:38:46 PC-Stefan root[18304] INFO Episode 24/30 - Train Position: -$12.10  Val Position: +$27.15  Train Loss: 0.0594  (~24.0455 secs)\n",
      "Episode 24/30: 100%|██████████| 1508/1508 [00:24<00:00, 62.50it/s]\n",
      "I1003 22:39:11.206058  8916 train.py:147] Episode 24/30 - Train Position: +$52.32  Val Position: -$1.82  Train Loss: 0.0419  (~24.1354 secs)\n",
      "2019-10-03 22:39:11 PC-Stefan root[18304] INFO Episode 24/30 - Train Position: +$52.32  Val Position: -$1.82  Train Loss: 0.0419  (~24.1354 secs)\n",
      "Episode 24/30: 100%|██████████| 1508/1508 [00:24<00:00, 62.65it/s]\n",
      "I1003 22:39:35.456437  8916 train.py:147] Episode 24/30 - Train Position: +$2.95  Val Position: +$132.95  Train Loss: 0.0022  (~24.0722 secs)\n",
      "2019-10-03 22:39:35 PC-Stefan root[18304] INFO Episode 24/30 - Train Position: +$2.95  Val Position: +$132.95  Train Loss: 0.0022  (~24.0722 secs)\n",
      "Episode 24/30: 100%|██████████| 1508/1508 [00:24<00:00, 62.62it/s]\n",
      "I1003 22:39:59.705984  8916 train.py:147] Episode 24/30 - Train Position: +$1303.02  Val Position: -$12.43  Train Loss: 0.3973  (~24.0759 secs)\n",
      "2019-10-03 22:39:59 PC-Stefan root[18304] INFO Episode 24/30 - Train Position: +$1303.02  Val Position: -$12.43  Train Loss: 0.3973  (~24.0759 secs)\n"
     ]
    },
    {
     "name": "stdout",
     "output_type": "stream",
     "text": [
      "Symbols           RCL        ANF       COST       ADBE       AAPL       GOLD\n",
      "Date                                                                        \n",
      "2012-01-03  28.570000  22.028625  22.927416  51.269413  67.481003  37.513138\n",
      "2012-01-04  28.280001  22.215746  23.270050  51.544937  67.058258  36.262455\n",
      "2012-01-05  28.480000  22.113682  23.173536  52.117188  66.412148  35.211254\n",
      "2012-01-06  28.719999  21.688419  22.941902  52.662014  64.713181  34.459309\n",
      "2012-01-09  28.530001  21.756460  23.023935  52.578468  63.022152  35.011761\n"
     ]
    },
    {
     "name": "stderr",
     "output_type": "stream",
     "text": [
      "Episode 25/30: 100%|██████████| 1508/1508 [00:24<00:00, 62.70it/s]\n",
      "I1003 22:40:23.956226  8916 train.py:147] Episode 25/30 - Train Position: +$0.76  Val Position: +$45.24  Train Loss: 0.0151  (~24.0471 secs)\n",
      "2019-10-03 22:40:23 PC-Stefan root[18304] INFO Episode 25/30 - Train Position: +$0.76  Val Position: +$45.24  Train Loss: 0.0151  (~24.0471 secs)\n",
      "Episode 25/30: 100%|██████████| 1508/1508 [00:24<00:00, 62.08it/s]\n",
      "I1003 22:40:48.426415  8916 train.py:147] Episode 25/30 - Train Position: +$46.67  Val Position: -$1.73  Train Loss: 0.0552  (~24.2858 secs)\n",
      "2019-10-03 22:40:48 PC-Stefan root[18304] INFO Episode 25/30 - Train Position: +$46.67  Val Position: -$1.73  Train Loss: 0.0552  (~24.2858 secs)\n",
      "Episode 25/30: 100%|██████████| 1508/1508 [00:24<00:00, 62.70it/s]\n",
      "I1003 22:41:12.656432  8916 train.py:147] Episode 25/30 - Train Position: -$1.42  Val Position: +$0.66  Train Loss: 0.0176  (~24.0544 secs)\n",
      "2019-10-03 22:41:12 PC-Stefan root[18304] INFO Episode 25/30 - Train Position: -$1.42  Val Position: +$0.66  Train Loss: 0.0176  (~24.0544 secs)\n",
      "Episode 25/30: 100%|██████████| 1508/1508 [00:24<00:00, 62.68it/s]\n",
      "I1003 22:41:36.900895  8916 train.py:147] Episode 25/30 - Train Position: +$57.07  Val Position: -$34.96  Train Loss: 0.0178  (~24.0559 secs)\n",
      "2019-10-03 22:41:36 PC-Stefan root[18304] INFO Episode 25/30 - Train Position: +$57.07  Val Position: -$34.96  Train Loss: 0.0178  (~24.0559 secs)\n",
      "Episode 25/30: 100%|██████████| 1508/1508 [00:24<00:00, 62.42it/s]\n",
      "I1003 22:42:01.236226  8916 train.py:147] Episode 25/30 - Train Position: -$95.53  Val Position: +$54.35  Train Loss: 0.0217  (~24.1524 secs)\n",
      "2019-10-03 22:42:01 PC-Stefan root[18304] INFO Episode 25/30 - Train Position: -$95.53  Val Position: +$54.35  Train Loss: 0.0217  (~24.1524 secs)\n",
      "Episode 25/30: 100%|██████████| 1508/1508 [00:24<00:00, 62.46it/s]\n",
      "I1003 22:42:25.566216  8916 train.py:147] Episode 25/30 - Train Position: +$66.01  Val Position: +$6.61  Train Loss: 0.0394  (~24.1399 secs)\n",
      "2019-10-03 22:42:25 PC-Stefan root[18304] INFO Episode 25/30 - Train Position: +$66.01  Val Position: +$6.61  Train Loss: 0.0394  (~24.1399 secs)\n"
     ]
    },
    {
     "name": "stdout",
     "output_type": "stream",
     "text": [
      "Symbols          AAPL       ADBE        ANF       COST       GOLD        RCL\n",
      "Date                                                                        \n",
      "2012-01-03  67.481003  37.513138  28.570000  51.269413  22.028625  22.927416\n",
      "2012-01-04  67.058258  36.262455  28.280001  51.544937  22.215746  23.270050\n",
      "2012-01-05  66.412148  35.211254  28.480000  52.117188  22.113682  23.173536\n",
      "2012-01-06  64.713181  34.459309  28.719999  52.662014  21.688419  22.941902\n",
      "2012-01-09  63.022152  35.011761  28.530001  52.578468  21.756460  23.023935\n"
     ]
    },
    {
     "name": "stderr",
     "output_type": "stream",
     "text": [
      "Episode 26/30: 100%|██████████| 1508/1508 [00:24<00:00, 62.01it/s]\n",
      "I1003 22:42:50.076348  8916 train.py:147] Episode 26/30 - Train Position: +$127.39  Val Position: +$112.89  Train Loss: 0.0458  (~24.3235 secs)\n",
      "2019-10-03 22:42:50 PC-Stefan root[18304] INFO Episode 26/30 - Train Position: +$127.39  Val Position: +$112.89  Train Loss: 0.0458  (~24.3235 secs)\n",
      "Episode 26/30: 100%|██████████| 1508/1508 [00:24<00:00, 62.43it/s]\n",
      "I1003 22:43:14.406332  8916 train.py:147] Episode 26/30 - Train Position: +$145.54  Val Position: +$3.97  Train Loss: 0.0772  (~24.1552 secs)\n",
      "2019-10-03 22:43:14 PC-Stefan root[18304] INFO Episode 26/30 - Train Position: +$145.54  Val Position: +$3.97  Train Loss: 0.0772  (~24.1552 secs)\n",
      "Episode 26/30: 100%|██████████| 1508/1508 [00:24<00:00, 62.65it/s]\n",
      "I1003 22:43:38.666353  8916 train.py:147] Episode 26/30 - Train Position: -$99.98  Val Position: +$108.10  Train Loss: 0.0238  (~24.0723 secs)\n",
      "2019-10-03 22:43:38 PC-Stefan root[18304] INFO Episode 26/30 - Train Position: -$99.98  Val Position: +$108.10  Train Loss: 0.0238  (~24.0723 secs)\n",
      "Episode 26/30: 100%|██████████| 1508/1508 [00:23<00:00, 63.02it/s]\n",
      "I1003 22:44:02.766118  8916 train.py:147] Episode 26/30 - Train Position: -$5.60  Val Position: -$32.82  Train Loss: 0.0757  (~23.9307 secs)\n",
      "2019-10-03 22:44:02 PC-Stefan root[18304] INFO Episode 26/30 - Train Position: -$5.60  Val Position: -$32.82  Train Loss: 0.0757  (~23.9307 secs)\n",
      "Episode 26/30: 100%|██████████| 1508/1508 [00:24<00:00, 62.42it/s]\n",
      "I1003 22:44:27.106088  8916 train.py:147] Episode 26/30 - Train Position: -$13.29  Val Position: +$161.52  Train Loss: 0.0499  (~24.1641 secs)\n",
      "2019-10-03 22:44:27 PC-Stefan root[18304] INFO Episode 26/30 - Train Position: -$13.29  Val Position: +$161.52  Train Loss: 0.0499  (~24.1641 secs)\n",
      "Episode 26/30: 100%|██████████| 1508/1508 [00:24<00:00, 62.28it/s]\n",
      "I1003 22:44:51.516150  8916 train.py:147] Episode 26/30 - Train Position: +$441.34  Val Position: +$1.02  Train Loss: 0.1810  (~24.2195 secs)\n",
      "2019-10-03 22:44:51 PC-Stefan root[18304] INFO Episode 26/30 - Train Position: +$441.34  Val Position: +$1.02  Train Loss: 0.1810  (~24.2195 secs)\n"
     ]
    },
    {
     "name": "stdout",
     "output_type": "stream",
     "text": [
      "Symbols          ADBE       GOLD       COST       AAPL        ANF        RCL\n",
      "Date                                                                        \n",
      "2012-01-03  37.513138  67.481003  28.570000  22.927416  51.269413  22.028625\n",
      "2012-01-04  36.262455  67.058258  28.280001  23.270050  51.544937  22.215746\n",
      "2012-01-05  35.211254  66.412148  28.480000  23.173536  52.117188  22.113682\n",
      "2012-01-06  34.459309  64.713181  28.719999  22.941902  52.662014  21.688419\n",
      "2012-01-09  35.011761  63.022152  28.530001  23.023935  52.578468  21.756460\n"
     ]
    },
    {
     "name": "stderr",
     "output_type": "stream",
     "text": [
      "Episode 27/30: 100%|██████████| 1508/1508 [00:26<00:00, 57.47it/s]\n",
      "I1003 22:45:17.946434  8916 train.py:147] Episode 27/30 - Train Position: +$52.71  Val Position: +$10.84  Train Loss: 0.0583  (~26.2341 secs)\n",
      "2019-10-03 22:45:17 PC-Stefan root[18304] INFO Episode 27/30 - Train Position: +$52.71  Val Position: +$10.84  Train Loss: 0.0583  (~26.2341 secs)\n",
      "Episode 27/30: 100%|██████████| 1508/1508 [00:24<00:00, 61.55it/s]\n",
      "I1003 22:45:42.636567  8916 train.py:147] Episode 27/30 - Train Position: +$136.63  Val Position: +$123.18  Train Loss: 0.0274  (~24.5066 secs)\n",
      "2019-10-03 22:45:42 PC-Stefan root[18304] INFO Episode 27/30 - Train Position: +$136.63  Val Position: +$123.18  Train Loss: 0.0274  (~24.5066 secs)\n",
      "Episode 27/30: 100%|██████████| 1508/1508 [00:24<00:00, 61.81it/s]\n",
      "I1003 22:46:07.226526  8916 train.py:147] Episode 27/30 - Train Position: -$64.48  Val Position: +$240.22  Train Loss: 0.0578  (~24.3985 secs)\n",
      "2019-10-03 22:46:07 PC-Stefan root[18304] INFO Episode 27/30 - Train Position: -$64.48  Val Position: +$240.22  Train Loss: 0.0578  (~24.3985 secs)\n",
      "Episode 27/30: 100%|██████████| 1508/1508 [00:24<00:00, 62.34it/s]\n",
      "I1003 22:46:31.616463  8916 train.py:147] Episode 27/30 - Train Position: +$83.75  Val Position: +$30.47  Train Loss: 0.1135  (~24.1916 secs)\n",
      "2019-10-03 22:46:31 PC-Stefan root[18304] INFO Episode 27/30 - Train Position: +$83.75  Val Position: +$30.47  Train Loss: 0.1135  (~24.1916 secs)\n",
      "Episode 27/30: 100%|██████████| 1508/1508 [00:24<00:00, 62.01it/s]\n",
      "I1003 22:46:56.126978  8916 train.py:147] Episode 27/30 - Train Position: -$12.38  Val Position: +$67.32  Train Loss: 0.0169  (~24.3308 secs)\n",
      "2019-10-03 22:46:56 PC-Stefan root[18304] INFO Episode 27/30 - Train Position: -$12.38  Val Position: +$67.32  Train Loss: 0.0169  (~24.3308 secs)\n",
      "Episode 27/30: 100%|██████████| 1508/1508 [00:24<00:00, 62.11it/s]\n",
      "I1003 22:47:20.586095  8916 train.py:147] Episode 27/30 - Train Position: +$146.67  Val Position: +$135.76  Train Loss: 0.1251  (~24.2745 secs)\n",
      "2019-10-03 22:47:20 PC-Stefan root[18304] INFO Episode 27/30 - Train Position: +$146.67  Val Position: +$135.76  Train Loss: 0.1251  (~24.2745 secs)\n"
     ]
    },
    {
     "name": "stdout",
     "output_type": "stream",
     "text": [
      "Symbols          AAPL       ADBE        ANF       COST       GOLD        RCL\n",
      "Date                                                                        \n",
      "2012-01-03  51.269413  22.927416  37.513138  22.028625  28.570000  67.481003\n",
      "2012-01-04  51.544937  23.270050  36.262455  22.215746  28.280001  67.058258\n",
      "2012-01-05  52.117188  23.173536  35.211254  22.113682  28.480000  66.412148\n",
      "2012-01-06  52.662014  22.941902  34.459309  21.688419  28.719999  64.713181\n",
      "2012-01-09  52.578468  23.023935  35.011761  21.756460  28.530001  63.022152\n"
     ]
    },
    {
     "name": "stderr",
     "output_type": "stream",
     "text": [
      "Episode 28/30: 100%|██████████| 1508/1508 [00:24<00:00, 62.26it/s]\n",
      "I1003 22:47:44.996171  8916 train.py:147] Episode 28/30 - Train Position: +$132.18  Val Position: +$32.48  Train Loss: 0.1230  (~24.2270 secs)\n",
      "2019-10-03 22:47:44 PC-Stefan root[18304] INFO Episode 28/30 - Train Position: +$132.18  Val Position: +$32.48  Train Loss: 0.1230  (~24.2270 secs)\n",
      "Episode 28/30: 100%|██████████| 1508/1508 [00:24<00:00, 62.31it/s]\n",
      "I1003 22:48:09.376342  8916 train.py:147] Episode 28/30 - Train Position: +$99.94  Val Position: -$0.47  Train Loss: 0.0657  (~24.2016 secs)\n",
      "2019-10-03 22:48:09 PC-Stefan root[18304] INFO Episode 28/30 - Train Position: +$99.94  Val Position: -$0.47  Train Loss: 0.0657  (~24.2016 secs)\n",
      "Episode 28/30: 100%|██████████| 1508/1508 [00:24<00:00, 62.21it/s]\n",
      "I1003 22:48:33.796487  8916 train.py:147] Episode 28/30 - Train Position: -$5.91  Val Position: +$8.19  Train Loss: 0.0063  (~24.2469 secs)\n",
      "2019-10-03 22:48:33 PC-Stefan root[18304] INFO Episode 28/30 - Train Position: -$5.91  Val Position: +$8.19  Train Loss: 0.0063  (~24.2469 secs)\n",
      "Episode 28/30: 100%|██████████| 1508/1508 [00:24<00:00, 62.62it/s]\n",
      "I1003 22:48:58.066465  8916 train.py:147] Episode 28/30 - Train Position: +$1.96  Val Position: +$19.56  Train Loss: 0.0135  (~24.0828 secs)\n",
      "2019-10-03 22:48:58 PC-Stefan root[18304] INFO Episode 28/30 - Train Position: +$1.96  Val Position: +$19.56  Train Loss: 0.0135  (~24.0828 secs)\n",
      "Episode 28/30: 100%|██████████| 1508/1508 [00:24<00:00, 62.52it/s]\n",
      "I1003 22:49:22.376353  8916 train.py:147] Episode 28/30 - Train Position: +$3.70  Val Position: +$205.37  Train Loss: 0.0091  (~24.1303 secs)\n",
      "2019-10-03 22:49:22 PC-Stefan root[18304] INFO Episode 28/30 - Train Position: +$3.70  Val Position: +$205.37  Train Loss: 0.0091  (~24.1303 secs)\n",
      "Episode 28/30: 100%|██████████| 1508/1508 [00:24<00:00, 62.57it/s]\n",
      "I1003 22:49:46.656328  8916 train.py:147] Episode 28/30 - Train Position: +$154.12  Val Position: +$36.56  Train Loss: 0.1016  (~24.1006 secs)\n",
      "2019-10-03 22:49:46 PC-Stefan root[18304] INFO Episode 28/30 - Train Position: +$154.12  Val Position: +$36.56  Train Loss: 0.1016  (~24.1006 secs)\n"
     ]
    },
    {
     "name": "stdout",
     "output_type": "stream",
     "text": [
      "Symbols          ADBE       GOLD       COST       AAPL        ANF        RCL\n",
      "Date                                                                        \n",
      "2012-01-03  37.513138  67.481003  28.570000  22.927416  51.269413  22.028625\n",
      "2012-01-04  36.262455  67.058258  28.280001  23.270050  51.544937  22.215746\n",
      "2012-01-05  35.211254  66.412148  28.480000  23.173536  52.117188  22.113682\n",
      "2012-01-06  34.459309  64.713181  28.719999  22.941902  52.662014  21.688419\n",
      "2012-01-09  35.011761  63.022152  28.530001  23.023935  52.578468  21.756460\n"
     ]
    },
    {
     "name": "stderr",
     "output_type": "stream",
     "text": [
      "Episode 29/30: 100%|██████████| 1508/1508 [00:24<00:00, 61.96it/s]\n",
      "I1003 22:50:11.196431  8916 train.py:147] Episode 29/30 - Train Position: +$131.95  Val Position: +$2.78  Train Loss: 0.0535  (~24.3450 secs)\n",
      "2019-10-03 22:50:11 PC-Stefan root[18304] INFO Episode 29/30 - Train Position: +$131.95  Val Position: +$2.78  Train Loss: 0.0535  (~24.3450 secs)\n",
      "Episode 29/30: 100%|██████████| 1508/1508 [00:24<00:00, 62.62it/s]\n",
      "I1003 22:50:35.477843  8916 train.py:147] Episode 29/30 - Train Position: +$125.26  Val Position: +$69.84  Train Loss: 0.0251  (~24.0853 secs)\n",
      "2019-10-03 22:50:35 PC-Stefan root[18304] INFO Episode 29/30 - Train Position: +$125.26  Val Position: +$69.84  Train Loss: 0.0251  (~24.0853 secs)\n",
      "Episode 29/30: 100%|██████████| 1508/1508 [00:24<00:00, 62.47it/s]\n",
      "I1003 22:50:59.806298  8916 train.py:147] Episode 29/30 - Train Position: -$4.36  Val Position: +$232.74  Train Loss: 0.0591  (~24.1494 secs)\n",
      "2019-10-03 22:50:59 PC-Stefan root[18304] INFO Episode 29/30 - Train Position: -$4.36  Val Position: +$232.74  Train Loss: 0.0591  (~24.1494 secs)\n",
      "Episode 29/30: 100%|██████████| 1508/1508 [00:24<00:00, 62.57it/s]\n",
      "I1003 22:51:24.096739  8916 train.py:147] Episode 29/30 - Train Position: +$75.90  Val Position: -$0.83  Train Loss: 0.0999  (~24.1000 secs)\n",
      "2019-10-03 22:51:24 PC-Stefan root[18304] INFO Episode 29/30 - Train Position: +$75.90  Val Position: -$0.83  Train Loss: 0.0999  (~24.1000 secs)\n",
      "Episode 29/30: 100%|██████████| 1508/1508 [00:24<00:00, 62.13it/s]\n",
      "I1003 22:51:48.558682  8916 train.py:147] Episode 29/30 - Train Position: -$2.64  Val Position: +$30.83  Train Loss: 0.0077  (~24.2787 secs)\n",
      "2019-10-03 22:51:48 PC-Stefan root[18304] INFO Episode 29/30 - Train Position: -$2.64  Val Position: +$30.83  Train Loss: 0.0077  (~24.2787 secs)\n",
      "Episode 29/30: 100%|██████████| 1508/1508 [00:24<00:00, 62.28it/s]\n",
      "I1003 22:52:12.936345  8916 train.py:147] Episode 29/30 - Train Position: +$51.31  Val Position: +$61.60  Train Loss: 0.0720  (~24.2129 secs)\n",
      "2019-10-03 22:52:12 PC-Stefan root[18304] INFO Episode 29/30 - Train Position: +$51.31  Val Position: +$61.60  Train Loss: 0.0720  (~24.2129 secs)\n"
     ]
    },
    {
     "name": "stdout",
     "output_type": "stream",
     "text": [
      "Symbols          AAPL       ADBE        ANF        RCL       COST       GOLD\n",
      "Date                                                                        \n",
      "2012-01-03  51.269413  37.513138  28.570000  22.927416  22.028625  67.481003\n",
      "2012-01-04  51.544937  36.262455  28.280001  23.270050  22.215746  67.058258\n",
      "2012-01-05  52.117188  35.211254  28.480000  23.173536  22.113682  66.412148\n",
      "2012-01-06  52.662014  34.459309  28.719999  22.941902  21.688419  64.713181\n",
      "2012-01-09  52.578468  35.011761  28.530001  23.023935  21.756460  63.022152\n"
     ]
    },
    {
     "name": "stderr",
     "output_type": "stream",
     "text": [
      "Episode 30/30: 100%|██████████| 1508/1508 [00:24<00:00, 62.18it/s]\n",
      "I1003 22:52:37.401345  8916 train.py:147] Episode 30/30 - Train Position: +$43.35  Val Position: +$45.81  Train Loss: 0.0656  (~24.2433 secs)\n",
      "2019-10-03 22:52:37 PC-Stefan root[18304] INFO Episode 30/30 - Train Position: +$43.35  Val Position: +$45.81  Train Loss: 0.0656  (~24.2433 secs)\n",
      "Episode 30/30: 100%|██████████| 1508/1508 [00:24<00:00, 62.44it/s]\n",
      "I1003 22:53:01.746270  8916 train.py:147] Episode 30/30 - Train Position: +$133.72  Val Position: -$4.20  Train Loss: 0.0799  (~24.1538 secs)\n",
      "2019-10-03 22:53:01 PC-Stefan root[18304] INFO Episode 30/30 - Train Position: +$133.72  Val Position: -$4.20  Train Loss: 0.0799  (~24.1538 secs)\n",
      "Episode 30/30: 100%|██████████| 1508/1508 [00:23<00:00, 62.96it/s]\n",
      "I1003 22:53:25.886600  8916 train.py:147] Episode 30/30 - Train Position: +$5.87  Val Position: +$187.66  Train Loss: 0.0293  (~23.9466 secs)\n",
      "2019-10-03 22:53:25 PC-Stefan root[18304] INFO Episode 30/30 - Train Position: +$5.87  Val Position: +$187.66  Train Loss: 0.0293  (~23.9466 secs)\n",
      "Episode 30/30: 100%|██████████| 1508/1508 [00:24<00:00, 62.73it/s]\n",
      "I1003 22:53:50.134344  8916 train.py:147] Episode 30/30 - Train Position: +$107.50  Val Position: -$0.10  Train Loss: 0.0817  (~24.0403 secs)\n",
      "2019-10-03 22:53:50 PC-Stefan root[18304] INFO Episode 30/30 - Train Position: +$107.50  Val Position: -$0.10  Train Loss: 0.0817  (~24.0403 secs)\n",
      "Episode 30/30: 100%|██████████| 1508/1508 [00:24<00:00, 62.28it/s]\n",
      "I1003 22:54:14.536643  8916 train.py:147] Episode 30/30 - Train Position: -$8.63  Val Position: +$46.04  Train Loss: 0.0058  (~24.2189 secs)\n",
      "2019-10-03 22:54:14 PC-Stefan root[18304] INFO Episode 30/30 - Train Position: -$8.63  Val Position: +$46.04  Train Loss: 0.0058  (~24.2189 secs)\n",
      "Episode 30/30: 100%|██████████| 1508/1508 [00:24<00:00, 62.39it/s]\n",
      "I1003 22:54:38.906363  8916 train.py:147] Episode 30/30 - Train Position: +$79.67  Val Position: +$108.48  Train Loss: 0.0387  (~24.1753 secs)\n",
      "2019-10-03 22:54:38 PC-Stefan root[18304] INFO Episode 30/30 - Train Position: +$79.67  Val Position: +$108.48  Train Loss: 0.0387  (~24.1753 secs)\n"
     ]
    },
    {
     "data": {
      "image/png": "[encoded data removed]",
      "text/plain": [
       "<Figure size 1080x360 with 1 Axes>"
      ]
     },
     "metadata": {
      "needs_background": "light"
     },
     "output_type": "display_data"
    }
   ],
   "source": [
    "#Training\n",
    "coloredlogs.install(level='DEBUG')\n",
    "switch_k_backend_device() #switches to CPU (acc. to author faster than GPU)\n",
    "\n",
    "\n",
    "if df2_train is not None:\n",
    "    agent = Agent(window_size*2, pretrained=False, model_name=model_name)\n",
    "else:\n",
    "    agent = Agent(window_size, pretrained=False, model_name=model_name)\n",
    "\n",
    "\n",
    "\n",
    "reslist_t =[] # Train Reward for plotting\n",
    "reslist_v = [] # Val Reward for plotting\n",
    "\n",
    "\n",
    "for i in range(1, ep_count + 1): \n",
    "    np.random.shuffle(cols1)\n",
    "    #shuffle columns of training data\n",
    "    cols = df_train.columns.values\n",
    "    np.random.shuffle(cols)\n",
    "    df_train_s = df_train[cols]\n",
    "    print(df_train_s.head())\n",
    "\n",
    "    #print(cols)\n",
    "\n",
    "    for column in df_train_s:\n",
    "        #create list\n",
    "        df_train_list = list(df_train_s[column])\n",
    "        df_val_list = list(df_val[column])\n",
    "\n",
    "        #dft = df_test.rename(columns={column: 'actual'})\n",
    "        initial_offset = df_train_list[1] - df_train_list[0]\n",
    "                \n",
    "        train_result = train_model(agent, i, df_train_list, df2_train_list, ep_count=ep_count,\n",
    "                                batch_size=batch_size, window_size=window_size)\n",
    "        val_result, _ = evaluate_model(agent, df_val_list, df2_val_list, window_size, debug)\n",
    "        show_train_result(train_result, val_result, initial_offset)\n",
    "      \n",
    "        reslist_t.append(train_result[2]) # append reward of training\n",
    "        reslist_v.append(val_result)\n",
    "        \n",
    "# Plotting Training History  \n",
    "plt.figure(figsize = (15,5))\n",
    "plt.plot(reslist_t, label = \"Training Reward\");\n",
    "plt.plot(reslist_v, label = \"Validation Reward\");\n",
    "plt.title(\"Reward\")\n",
    "plt.xlabel(\"Epochs\")\n",
    "plt.legend()\n",
    "plt.show()\n",
    "\n"
   ]
  },
  {
   "cell_type": "markdown",
   "metadata": {},
   "source": [
    "## Visualization of actions taken by Trading Bot"
   ]
  },
  {
   "cell_type": "code",
   "execution_count": 41,
   "metadata": {},
   "outputs": [],
   "source": [
    "def visualize(df, history):\n",
    "    # add history to dataframe\n",
    "    position = [history[0][0]] + [x[0] for x in history]\n",
    "    actions = ['HOLD'] + [x[1] for x in history]\n",
    "    df['position'] = position\n",
    "    df['action'] = actions\n",
    "    \n",
    "    #alt.Chart(df.reset_index()).mark_line().encode(x='index')\n",
    "    \n",
    "    # specify y-axis scale for stock prices\n",
    "    scale = alt.Scale(domain=(min(min(df['actual']), min(df['position'])) - 50, max(max(df['actual']), max(df['position'])) + 50), clamp=True)\n",
    "    \n",
    "    # plot a line chart for stock positions\n",
    "    actual = alt.Chart(df.reset_index()).mark_line(\n",
    "        color='green',\n",
    "        opacity=0.5\n",
    "    ).encode(\n",
    "        x='Date:T', #'date:T'\n",
    "        y=alt.Y('position', axis=alt.Axis(format='$.2f', title='Price'), scale=scale)\n",
    "    ).interactive(\n",
    "        bind_y=False\n",
    "    )\n",
    "    \n",
    "    # plot the BUY and SELL actions as points\n",
    "    points = alt.Chart(df.reset_index()).transform_filter(\n",
    "        alt.datum.action != 'HOLD'\n",
    "    ).mark_point(\n",
    "        filled=True\n",
    "    ).encode(\n",
    "        x=alt.X('Date:T', axis=alt.Axis(title='Date')),\n",
    "        y=alt.Y('position', axis=alt.Axis(format='$.2f', title='Price'), scale=scale),\n",
    "        color='action'\n",
    "        #color=alt.Color('action', scale=alt.Scale(range=['blue', 'red']))\n",
    "    ).interactive(bind_y=False)\n",
    "\n",
    "    # merge the two charts\n",
    "    chart = alt.layer(actual, points, title=\"your stock\").properties(height=300, width=1000)\n",
    "    \n",
    "    return chart"
   ]
  },
  {
   "cell_type": "markdown",
   "metadata": {},
   "source": [
    "## Plotting the evaluation actions"
   ]
  },
  {
   "cell_type": "markdown",
   "metadata": {},
   "source": [
    "## Testing the Model\n",
    "__Select correct model for Testing! (test model not linked to trained model)__\n",
    "\n",
    "### Load different types of stocks in model:\n",
    " - Growth: Adobe (ADBE), Apple (AAPL)\n",
    " - Cyclical: Royal Caribbean (RCL)\n",
    " - Slow and low dividend: Costco (COST)\n",
    " - Turnaround: A&F (ANF)\n",
    " - Other: Gold\n",
    " \n",
    "### Load generated data\n",
    "  - Sin function\n",
    "  - Random Data\n",
    " \n",
    " "
   ]
  },
  {
   "cell_type": "code",
   "execution_count": 10,
   "metadata": {},
   "outputs": [
    {
     "name": "stderr",
     "output_type": "stream",
     "text": [
      "I1003 17:00:34.841530  8916 connectionpool.py:813] Starting new HTTPS connection (1): finance.yahoo.com:443\n",
      "2019-10-03 17:00:34 PC-Stefan urllib3.connectionpool[18304] DEBUG Starting new HTTPS connection (1): finance.yahoo.com:443\n",
      "I1003 17:00:35.258388  8916 connectionpool.py:393] https://finance.yahoo.com:443 \"GET /quote/ADBE/history?period1=1451617200&period2=1570154399&interval=1d&frequency=1d&filter=history HTTP/1.1\" 200 None\n",
      "2019-10-03 17:00:35 PC-Stefan urllib3.connectionpool[18304] DEBUG https://finance.yahoo.com:443 \"GET /quote/ADBE/history?period1=1451617200&period2=1570154399&interval=1d&frequency=1d&filter=history HTTP/1.1\" 200 None\n",
      "I1003 17:00:35.590475  8916 connectionpool.py:393] https://finance.yahoo.com:443 \"GET /quote/AAPL/history?period1=1451617200&period2=1570154399&interval=1d&frequency=1d&filter=history HTTP/1.1\" 200 None\n",
      "2019-10-03 17:00:35 PC-Stefan urllib3.connectionpool[18304] DEBUG https://finance.yahoo.com:443 \"GET /quote/AAPL/history?period1=1451617200&period2=1570154399&interval=1d&frequency=1d&filter=history HTTP/1.1\" 200 None\n",
      "I1003 17:00:36.044962  8916 connectionpool.py:393] https://finance.yahoo.com:443 \"GET /quote/RCL/history?period1=1451617200&period2=1570154399&interval=1d&frequency=1d&filter=history HTTP/1.1\" 200 None\n",
      "2019-10-03 17:00:36 PC-Stefan urllib3.connectionpool[18304] DEBUG https://finance.yahoo.com:443 \"GET /quote/RCL/history?period1=1451617200&period2=1570154399&interval=1d&frequency=1d&filter=history HTTP/1.1\" 200 None\n",
      "I1003 17:00:36.492924  8916 connectionpool.py:393] https://finance.yahoo.com:443 \"GET /quote/COST/history?period1=1451617200&period2=1570154399&interval=1d&frequency=1d&filter=history HTTP/1.1\" 200 None\n",
      "2019-10-03 17:00:36 PC-Stefan urllib3.connectionpool[18304] DEBUG https://finance.yahoo.com:443 \"GET /quote/COST/history?period1=1451617200&period2=1570154399&interval=1d&frequency=1d&filter=history HTTP/1.1\" 200 None\n",
      "I1003 17:00:36.831651  8916 connectionpool.py:393] https://finance.yahoo.com:443 \"GET /quote/ANF/history?period1=1451617200&period2=1570154399&interval=1d&frequency=1d&filter=history HTTP/1.1\" 200 None\n",
      "2019-10-03 17:00:36 PC-Stefan urllib3.connectionpool[18304] DEBUG https://finance.yahoo.com:443 \"GET /quote/ANF/history?period1=1451617200&period2=1570154399&interval=1d&frequency=1d&filter=history HTTP/1.1\" 200 None\n",
      "I1003 17:00:37.295329  8916 connectionpool.py:393] https://finance.yahoo.com:443 \"GET /quote/GOLD/history?period1=1451617200&period2=1570154399&interval=1d&frequency=1d&filter=history HTTP/1.1\" 200 None\n",
      "2019-10-03 17:00:37 PC-Stefan urllib3.connectionpool[18304] DEBUG https://finance.yahoo.com:443 \"GET /quote/GOLD/history?period1=1451617200&period2=1570154399&interval=1d&frequency=1d&filter=history HTTP/1.1\" 200 None\n",
      "I1003 17:00:37.449031  8916 connectionpool.py:813] Starting new HTTPS connection (1): finance.yahoo.com:443\n",
      "2019-10-03 17:00:37 PC-Stefan urllib3.connectionpool[18304] DEBUG Starting new HTTPS connection (1): finance.yahoo.com:443\n",
      "I1003 17:00:37.881184  8916 connectionpool.py:393] https://finance.yahoo.com:443 \"GET /quote/GOLD/history?period1=1451617200&period2=1570154399&interval=1d&frequency=1d&filter=history HTTP/1.1\" 200 None\n",
      "2019-10-03 17:00:37 PC-Stefan urllib3.connectionpool[18304] DEBUG https://finance.yahoo.com:443 \"GET /quote/GOLD/history?period1=1451617200&period2=1570154399&interval=1d&frequency=1d&filter=history HTTP/1.1\" 200 None\n"
     ]
    },
    {
     "data": {
      "text/plain": [
       "<Figure size 432x288 with 0 Axes>"
      ]
     },
     "metadata": {},
     "output_type": "display_data"
    },
    {
     "data": {
      "image/png": "[encoded data removed]",
      "text/plain": [
       "<Figure size 432x288 with 1 Axes>"
      ]
     },
     "metadata": {
      "needs_background": "light"
     },
     "output_type": "display_data"
    }
   ],
   "source": [
    "# Loading Test Data\n",
    "# Setting Start and Enddate for Validation\n",
    "\n",
    "\n",
    "start_test = datetime.datetime(2016, 1, 1)\n",
    "end_test = datetime.datetime.now()\n",
    "\n",
    "# Load Test Data\n",
    "\n",
    "# Load several stocks\n",
    "df_test = web.DataReader(['ADBE', 'AAPL', 'RCL', 'COST', 'ANF', 'GOLD'],'yahoo',\n",
    "                               start=start_test, \n",
    "                               end=end_test)['Adj Close']\n",
    "\n",
    "#Add random column for testing\n",
    "df_test['random']=np.random.randint(1,100,df_test.shape[0])\n",
    "df_test['sine']=50+50*np.sin(np.linspace(1,100,df_test.shape[0]))\n",
    "\n",
    "# define second data input\n",
    "df2_test = web.DataReader('GOLD','yahoo',\n",
    "                               start=start_test, end=end_test)\n",
    "\n",
    "# Convert df2_test to list\n",
    "df2_test_list = list(df2_test['Adj Close'])\n",
    "\n",
    "\n",
    "plt.figure();\n",
    "df_test.plot();\n"
   ]
  },
  {
   "cell_type": "code",
   "execution_count": 45,
   "metadata": {},
   "outputs": [
    {
     "name": "stdout",
     "output_type": "stream",
     "text": [
      "AAPL\n"
     ]
    },
    {
     "name": "stderr",
     "output_type": "stream",
     "text": [
      "I1003 23:19:57.164391  8916 evaluate.py:111] model_w15v2_30: +$127.97\n",
      "\n",
      "2019-10-03 23:19:57 PC-Stefan root[18304] INFO model_w15v2_30: +$127.97\n",
      "\n"
     ]
    },
    {
     "name": "stdout",
     "output_type": "stream",
     "text": [
      "Earnings of Model:  127.97403717041016\n",
      "ADBE\n"
     ]
    },
    {
     "name": "stderr",
     "output_type": "stream",
     "text": [
      "I1003 23:19:57.561728  8916 evaluate.py:111] model_w15v2_30: +$302.70\n",
      "\n",
      "2019-10-03 23:19:57 PC-Stefan root[18304] INFO model_w15v2_30: +$302.70\n",
      "\n"
     ]
    },
    {
     "name": "stdout",
     "output_type": "stream",
     "text": [
      "Earnings of Model:  302.6998291015625\n",
      "ANF\n"
     ]
    },
    {
     "name": "stderr",
     "output_type": "stream",
     "text": [
      "I1003 23:19:57.967683  8916 evaluate.py:111] model_w15v2_30: -$8.32\n",
      "\n",
      "2019-10-03 23:19:57 PC-Stefan root[18304] INFO model_w15v2_30: -$8.32\n",
      "\n"
     ]
    },
    {
     "name": "stdout",
     "output_type": "stream",
     "text": [
      "Earnings of Model:  -8.321293830871582\n",
      "COST\n"
     ]
    },
    {
     "name": "stderr",
     "output_type": "stream",
     "text": [
      "I1003 23:19:58.369837  8916 evaluate.py:111] model_w15v2_30: +$101.96\n",
      "\n",
      "2019-10-03 23:19:58 PC-Stefan root[18304] INFO model_w15v2_30: +$101.96\n",
      "\n"
     ]
    },
    {
     "name": "stdout",
     "output_type": "stream",
     "text": [
      "Earnings of Model:  101.96377563476562\n",
      "GOLD\n"
     ]
    },
    {
     "name": "stderr",
     "output_type": "stream",
     "text": [
      "I1003 23:19:58.761682  8916 evaluate.py:111] model_w15v2_30: -$2.26\n",
      "\n",
      "2019-10-03 23:19:58 PC-Stefan root[18304] INFO model_w15v2_30: -$2.26\n",
      "\n"
     ]
    },
    {
     "name": "stdout",
     "output_type": "stream",
     "text": [
      "Earnings of Model:  -2.2600584030151367\n",
      "RCL\n"
     ]
    },
    {
     "name": "stderr",
     "output_type": "stream",
     "text": [
      "I1003 23:19:59.153673  8916 evaluate.py:111] model_w15v2_30: +$56.21\n",
      "\n",
      "2019-10-03 23:19:59 PC-Stefan root[18304] INFO model_w15v2_30: +$56.21\n",
      "\n"
     ]
    },
    {
     "name": "stdout",
     "output_type": "stream",
     "text": [
      "Earnings of Model:  56.21148681640625\n",
      "random\n"
     ]
    },
    {
     "name": "stderr",
     "output_type": "stream",
     "text": [
      "I1003 23:19:59.575590  8916 evaluate.py:111] model_w15v2_30: +$9718.00\n",
      "\n",
      "2019-10-03 23:19:59 PC-Stefan root[18304] INFO model_w15v2_30: +$9718.00\n",
      "\n"
     ]
    },
    {
     "name": "stdout",
     "output_type": "stream",
     "text": [
      "Earnings of Model:  9718\n",
      "sine\n"
     ]
    },
    {
     "name": "stderr",
     "output_type": "stream",
     "text": [
      "I1003 23:19:59.997946  8916 evaluate.py:111] model_w15v2_30: -$5220.25\n",
      "\n",
      "2019-10-03 23:19:59 PC-Stefan root[18304] INFO model_w15v2_30: -$5220.25\n",
      "\n"
     ]
    },
    {
     "name": "stdout",
     "output_type": "stream",
     "text": [
      "Earnings of Model:  -5220.246699395459\n",
      "Sum:  5076.021077093799\n"
     ]
    }
   ],
   "source": [
    "#Load Model\n",
    "model_name = 'model_w15v2_30'\n",
    "\n",
    "# Init Model\n",
    "window_size = 15\n",
    "\n",
    "# Initialize Agent\n",
    "if df2_test_list is not None:\n",
    "    agent = Agent(window_size*2, pretrained=True, model_name=model_name)\n",
    "else:\n",
    "    agent = Agent(window_size, pretrained=True, model_name=model_name)\n",
    "\n",
    "sum = 0\n",
    "# Loop over stocks\n",
    "for column in df_test:\n",
    "    print(column)\n",
    "    #rename feature column name\n",
    "    df_test_list = list(df_test[column])\n",
    "    dft = df_test.rename(columns={column: 'actual'})\n",
    "    initial_offset = df_test_list[1] - df_test_list[0]\n",
    "    val_result, history = evaluate_model(agent, df_test_list, df2_test_list, window_size, debug)\n",
    "    show_eval_result(model_name, val_result, initial_offset)\n",
    "    chart = visualize(dft, history)\n",
    "    sum = sum+val_result\n",
    "    print(\"Earnings of Model: \", val_result)\n",
    "    #chart.display()\n",
    "\n",
    "print(\"Sum: \", sum)"
   ]
  },
  {
   "cell_type": "code",
   "execution_count": null,
   "metadata": {},
   "outputs": [],
   "source": []
  }
 ],
 "metadata": {
  "kernelspec": {
   "display_name": "Python 3",
   "language": "python",
   "name": "python3"
  },
  "language_info": {
   "codemirror_mode": {
    "name": "ipython",
    "version": 3
   },
   "file_extension": ".py",
   "mimetype": "text/x-python",
   "name": "python",
   "nbconvert_exporter": "python",
   "pygments_lexer": "ipython3",
   "version": "3.7.4"
  }
 },
 "nbformat": 4,
 "nbformat_minor": 2
}
